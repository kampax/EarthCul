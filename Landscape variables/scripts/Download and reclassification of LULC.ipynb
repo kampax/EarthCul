{
 "cells": [
  {
   "cell_type": "markdown",
   "metadata": {},
   "source": [
    "Code for downloading land use layers and subsequent reclassification of land use codes.\n",
    "The download and classification of land use was done using [GEE](https://geemap.org/)\n",
    "This reclassification is based on the values in this [table](https://github.com/kampax/EarthCul/blob/main/Landscape%20variables/LULC_CORINE_Codes.csv)"
   ]
  },
  {
   "cell_type": "code",
   "execution_count": 3,
   "metadata": {},
   "outputs": [
    {
     "data": {
      "text/html": [
       "\n",
       "            <style>\n",
       "                .geemap-dark {\n",
       "                    --jp-widgets-color: white;\n",
       "                    --jp-widgets-label-color: white;\n",
       "                    --jp-ui-font-color1: white;\n",
       "                    --jp-layout-color2: #454545;\n",
       "                    background-color: #383838;\n",
       "                }\n",
       "                    \n",
       "                .geemap-dark .jupyter-button {\n",
       "                    --jp-layout-color3: #383838;\n",
       "                }\n",
       "                \n",
       "                .geemap-colab {\n",
       "                    background-color: var(--colab-primary-surface-color, white);\n",
       "                }\n",
       "                    \n",
       "                .geemap-colab .jupyter-button {\n",
       "                    --jp-layout-color3: var(--colab-primary-surface-color, white);\n",
       "                }\n",
       "            </style>\n",
       "            "
      ],
      "text/plain": [
       "<IPython.core.display.HTML object>"
      ]
     },
     "metadata": {},
     "output_type": "display_data"
    }
   ],
   "source": [
    "import ee\n",
    "import geemap\n",
    "\n",
    "# Initialize and authenticate Earth Engine\n",
    "#Remove comment if authentication is required in Google Earth Engine\n",
    "# ee.Authenticate()\n",
    "ee.Initialize()"
   ]
  },
  {
   "cell_type": "code",
   "execution_count": 6,
   "metadata": {},
   "outputs": [
    {
     "data": {
      "text/html": [
       "\n",
       "            <style>\n",
       "                .geemap-dark {\n",
       "                    --jp-widgets-color: white;\n",
       "                    --jp-widgets-label-color: white;\n",
       "                    --jp-ui-font-color1: white;\n",
       "                    --jp-layout-color2: #454545;\n",
       "                    background-color: #383838;\n",
       "                }\n",
       "                    \n",
       "                .geemap-dark .jupyter-button {\n",
       "                    --jp-layout-color3: #383838;\n",
       "                }\n",
       "                \n",
       "                .geemap-colab {\n",
       "                    background-color: var(--colab-primary-surface-color, white);\n",
       "                }\n",
       "                    \n",
       "                .geemap-colab .jupyter-button {\n",
       "                    --jp-layout-color3: var(--colab-primary-surface-color, white);\n",
       "                }\n",
       "            </style>\n",
       "            "
      ],
      "text/plain": [
       "<IPython.core.display.HTML object>"
      ]
     },
     "metadata": {},
     "output_type": "display_data"
    },
    {
     "data": {
      "application/vnd.jupyter.widget-view+json": {
       "model_id": "7da4f700d1064e558810da6170376ccf",
       "version_major": 2,
       "version_minor": 0
      },
      "text/plain": [
       "Map(center=[42.57826728642684, 0.9164188095819685], controls=(WidgetControl(options=['position', 'transparent_…"
      ]
     },
     "execution_count": 6,
     "metadata": {},
     "output_type": "execute_result"
    }
   ],
   "source": [
    "# Load the Features collection\n",
    "BBs = ee.FeatureCollection(\"users/cnav/EarthCul/BBs_EarthCul\")\n",
    "#// Aiguestortes\n",
    "#// Ordesa\n",
    "#// Peneda\n",
    "#// Guadarrama\n",
    "#// Picos\n",
    "#// SierraNieves\n",
    "#// SierraNevada\n",
    "#// Teide\n",
    "\n",
    "#Filter collection by park\n",
    "park = \"Aiguestortes\"\n",
    "AOI = BBs.filter(ee.Filter.eq(\"PN\", park))\n",
    "AOI = AOI.geometry().buffer(10000)###Include a 10 km buffer around my area of interest\n",
    "\n",
    "# Load the Corine Land Cover land use layer\n",
    "clc = ee.Image(\"COPERNICUS/CORINE/V20/100m/2018\")\n",
    "\n",
    "# Recategorize CLC values\n",
    "oldValues = [111,112,121,122,123,124,131,132,133,142,\n",
    "141,\n",
    "211,212,213,221,222,223,231,241,242,243,244,\n",
    "311,312,313,321,322,323,324,331,332,333,334,335,\n",
    "411,412,421,422,423,511,512,521,522,523\n",
    "             ]\n",
    "\n",
    "newValues = [100,100,100,100,100,100,100,100,100,100, #Artificial surfaces \n",
    "141,\n",
    "211,212,213,221,222,223,231,241,242,243,244,\n",
    "311,312,313,321,322,323,324,331,332,333,334,335,\n",
    "411,412,421,422,423,511,512,521,522,523\n",
    "             ]\n",
    "\n",
    "# Remap raster values\n",
    "clc_recat = clc.remap(oldValues, newValues, None).rename('landcover')\n",
    "\n",
    "# Agregar la capa recategorizada al mapa\n",
    "palette = [\n",
    "'#ffa6ff', '#ffffa8', '#ffff00', '#e6e600', '#e68000', '#f2a64d', '#e6a600', '#e6e64d', \n",
    "'#ffe6a6', '#ffe64d', '#e6cc4d', '#f2cca6', '#80ff00', '#00a600', '#4dff00', '#ccf24d', \n",
    "'#a6ff80', '#a6e64d', '#a6f200', '#e6e6e6', '#cccccc', '#ccffcc', '#000000', '#a6e6cc', \n",
    "'#a6a6ff', '#4d4dff', '#ccccff', '#e6e6ff', '#a6a6e6', '#00ccf2', '#80f2e6', '#00ffa6', \n",
    "'#a6ffe6', '#e6f2ff'\n",
    "\n",
    "]\n",
    "\n",
    "# Add the recategorized layer to the map\n",
    "Map = geemap.Map(center=[40, -100], zoom=4)\n",
    "Map.addLayer(clc_recat, {'min': 100, 'max': 523, 'palette': palette}, \"LandCover recategorized\")\n",
    "Map.addLayer(clc, {}, \"Original LandCover\")\n",
    "\n",
    "Map.centerObject(AOI, 10)\n",
    "\n",
    "Map"
   ]
  },
  {
   "cell_type": "code",
   "execution_count": 8,
   "metadata": {},
   "outputs": [
    {
     "data": {
      "text/html": [
       "\n",
       "            <style>\n",
       "                .geemap-dark {\n",
       "                    --jp-widgets-color: white;\n",
       "                    --jp-widgets-label-color: white;\n",
       "                    --jp-ui-font-color1: white;\n",
       "                    --jp-layout-color2: #454545;\n",
       "                    background-color: #383838;\n",
       "                }\n",
       "                    \n",
       "                .geemap-dark .jupyter-button {\n",
       "                    --jp-layout-color3: #383838;\n",
       "                }\n",
       "                \n",
       "                .geemap-colab {\n",
       "                    background-color: var(--colab-primary-surface-color, white);\n",
       "                }\n",
       "                    \n",
       "                .geemap-colab .jupyter-button {\n",
       "                    --jp-layout-color3: var(--colab-primary-surface-color, white);\n",
       "                }\n",
       "            </style>\n",
       "            "
      ],
      "text/plain": [
       "<IPython.core.display.HTML object>"
      ]
     },
     "metadata": {},
     "output_type": "display_data"
    },
    {
     "name": "stdout",
     "output_type": "stream",
     "text": [
      "Generating URL ...\n",
      "Downloading data from https://earthengine.googleapis.com/v1/projects/earthengine-legacy/thumbnails/77746d30e1506a9681dc49bb8c8eba55-808ccaf49bcae5ca99ce7e6836c426b9:getPixels\n",
      "Please wait ...\n",
      "Data downloaded to c:\\Users\\carlo\\Documents\\EarthCul\\Landscape variables\\LULC\\Aiguestortes\\LULC.tif\n"
     ]
    }
   ],
   "source": [
    "\n",
    "import os\n",
    "# Code to download the generated land use layer\n",
    "## Define the output folder\n",
    "base_path = os.getcwd()\n",
    "out_dir = os.path.join(base_path,\"../LULC/\"+park)\n",
    "filename = os.path.join(out_dir, 'LULC.tif')\n",
    "\n",
    "# Clip layer\n",
    "image = clc_recat.clip(AOI).unmask()\n",
    "\n",
    "# Export LULC layer\n",
    "geemap.ee_export_image(\n",
    "    image, filename=filename, scale=100, region=AOI, file_per_band=False, crs= \"EPSG:32630\"\n",
    ")\n"
   ]
  },
  {
   "cell_type": "code",
   "execution_count": 9,
   "metadata": {},
   "outputs": [
    {
     "data": {
      "text/html": [
       "\n",
       "            <style>\n",
       "                .geemap-dark {\n",
       "                    --jp-widgets-color: white;\n",
       "                    --jp-widgets-label-color: white;\n",
       "                    --jp-ui-font-color1: white;\n",
       "                    --jp-layout-color2: #454545;\n",
       "                    background-color: #383838;\n",
       "                }\n",
       "                    \n",
       "                .geemap-dark .jupyter-button {\n",
       "                    --jp-layout-color3: #383838;\n",
       "                }\n",
       "                \n",
       "                .geemap-colab {\n",
       "                    background-color: var(--colab-primary-surface-color, white);\n",
       "                }\n",
       "                    \n",
       "                .geemap-colab .jupyter-button {\n",
       "                    --jp-layout-color3: var(--colab-primary-surface-color, white);\n",
       "                }\n",
       "            </style>\n",
       "            "
      ],
      "text/plain": [
       "<IPython.core.display.HTML object>"
      ]
     },
     "metadata": {},
     "output_type": "display_data"
    },
    {
     "name": "stdout",
     "output_type": "stream",
     "text": [
      "Generating URL ...\n",
      "Downloading data from https://earthengine.googleapis.com/v1/projects/earthengine-legacy/thumbnails/799e523f0e26685f2c5d53b2cc94cdbd-1abb98e6206490ff7beecb830c13c7a3:getPixels\n",
      "Please wait ...\n",
      "Data downloaded to c:\\Users\\carlo\\Documents\\EarthCul\\Landscape variables\\LULC\\Aiguestortes\\Original_LULC.tif\n"
     ]
    }
   ],
   "source": [
    "# If also want to download the original land use layer\n",
    "\n",
    "filename2 = os.path.join(out_dir, 'Original_LULC.tif')\n",
    "\n",
    "# Clip layer\n",
    "image2 = clc.clip(AOI).unmask()\n",
    "\n",
    "#Export original layer\n",
    "geemap.ee_export_image(\n",
    "    image2, filename=filename2, scale=100, region=AOI, file_per_band=False\n",
    ")"
   ]
  },
  {
   "cell_type": "code",
   "execution_count": null,
   "metadata": {},
   "outputs": [],
   "source": [
    "# If you want like to download to the drive\n",
    "\n",
    "# geemap.ee_export_image_to_drive(\n",
    "#     image, description='LULC', folder='export', region=AOI, scale=100\n",
    "# )"
   ]
  }
 ],
 "metadata": {
  "kernelspec": {
   "display_name": "base",
   "language": "python",
   "name": "python3"
  },
  "language_info": {
   "codemirror_mode": {
    "name": "ipython",
    "version": 3
   },
   "file_extension": ".py",
   "mimetype": "text/x-python",
   "name": "python",
   "nbconvert_exporter": "python",
   "pygments_lexer": "ipython3",
   "version": "3.11.5"
  }
 },
 "nbformat": 4,
 "nbformat_minor": 2
}
