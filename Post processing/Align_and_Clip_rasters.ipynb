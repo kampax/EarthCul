{
 "cells": [
  {
   "cell_type": "markdown",
   "metadata": {},
   "source": [
    "This code was used to align and clip all rasters.\n",
    "For this we use a base layer, in our case we use the projected slopes layer in 3035 with a pixel size of 100 meters"
   ]
  },
  {
   "cell_type": "code",
   "execution_count": 1,
   "metadata": {},
   "outputs": [
    {
     "name": "stderr",
     "output_type": "stream",
     "text": [
      "Aligning rasters:   0%|          | 0/1 [00:00<?, ?it/s]\n"
     ]
    },
    {
     "ename": "RasterioIOError",
     "evalue": "Attempt to create new tiff file 'C:/Users/carlo/Documents/EarthCul/Post processing/results/SierraNevada/viewshed.tif' failed: No such file or directory",
     "output_type": "error",
     "traceback": [
      "\u001b[1;31m---------------------------------------------------------------------------\u001b[0m",
      "\u001b[1;31mCPLE_OpenFailedError\u001b[0m                      Traceback (most recent call last)",
      "File \u001b[1;32mrasterio\\\\_io.pyx:1486\u001b[0m, in \u001b[0;36mrasterio._io.DatasetWriterBase.__init__\u001b[1;34m()\u001b[0m\n",
      "File \u001b[1;32mrasterio\\\\_err.pyx:221\u001b[0m, in \u001b[0;36mrasterio._err.exc_wrap_pointer\u001b[1;34m()\u001b[0m\n",
      "\u001b[1;31mCPLE_OpenFailedError\u001b[0m: Attempt to create new tiff file 'C:/Users/carlo/Documents/EarthCul/Post processing/results/SierraNevada/viewshed.tif' failed: No such file or directory",
      "\nDuring handling of the above exception, another exception occurred:\n",
      "\u001b[1;31mRasterioIOError\u001b[0m                           Traceback (most recent call last)",
      "Cell \u001b[1;32mIn[1], line 65\u001b[0m\n\u001b[0;32m     63\u001b[0m \u001b[38;5;66;03m# Save\u001b[39;00m\n\u001b[0;32m     64\u001b[0m output_path \u001b[38;5;241m=\u001b[39m os\u001b[38;5;241m.\u001b[39mpath\u001b[38;5;241m.\u001b[39mjoin(output_folder, input_filename)\n\u001b[1;32m---> 65\u001b[0m \u001b[38;5;28;01mwith\u001b[39;00m rasterio\u001b[38;5;241m.\u001b[39mopen(output_path, \u001b[38;5;124m'\u001b[39m\u001b[38;5;124mw\u001b[39m\u001b[38;5;124m'\u001b[39m, \u001b[38;5;241m*\u001b[39m\u001b[38;5;241m*\u001b[39mprofile_resampled) \u001b[38;5;28;01mas\u001b[39;00m dst:\n\u001b[0;32m     66\u001b[0m     dst\u001b[38;5;241m.\u001b[39mwrite(data_resampled, \u001b[38;5;241m1\u001b[39m)\n",
      "File \u001b[1;32mc:\\Users\\carlo\\anaconda3\\Lib\\site-packages\\rasterio\\env.py:451\u001b[0m, in \u001b[0;36mensure_env_with_credentials.<locals>.wrapper\u001b[1;34m(*args, **kwds)\u001b[0m\n\u001b[0;32m    448\u001b[0m     session \u001b[38;5;241m=\u001b[39m DummySession()\n\u001b[0;32m    450\u001b[0m \u001b[38;5;28;01mwith\u001b[39;00m env_ctor(session\u001b[38;5;241m=\u001b[39msession):\n\u001b[1;32m--> 451\u001b[0m     \u001b[38;5;28;01mreturn\u001b[39;00m f(\u001b[38;5;241m*\u001b[39margs, \u001b[38;5;241m*\u001b[39m\u001b[38;5;241m*\u001b[39mkwds)\n",
      "File \u001b[1;32mc:\\Users\\carlo\\anaconda3\\Lib\\site-packages\\rasterio\\__init__.py:327\u001b[0m, in \u001b[0;36mopen\u001b[1;34m(fp, mode, driver, width, height, count, crs, transform, dtype, nodata, sharing, **kwargs)\u001b[0m\n\u001b[0;32m    325\u001b[0m writer \u001b[38;5;241m=\u001b[39m get_writer_for_driver(driver)\n\u001b[0;32m    326\u001b[0m \u001b[38;5;28;01mif\u001b[39;00m writer \u001b[38;5;129;01mis\u001b[39;00m \u001b[38;5;129;01mnot\u001b[39;00m \u001b[38;5;28;01mNone\u001b[39;00m:\n\u001b[1;32m--> 327\u001b[0m     dataset \u001b[38;5;241m=\u001b[39m writer(\n\u001b[0;32m    328\u001b[0m         path,\n\u001b[0;32m    329\u001b[0m         mode,\n\u001b[0;32m    330\u001b[0m         driver\u001b[38;5;241m=\u001b[39mdriver,\n\u001b[0;32m    331\u001b[0m         width\u001b[38;5;241m=\u001b[39mwidth,\n\u001b[0;32m    332\u001b[0m         height\u001b[38;5;241m=\u001b[39mheight,\n\u001b[0;32m    333\u001b[0m         count\u001b[38;5;241m=\u001b[39mcount,\n\u001b[0;32m    334\u001b[0m         crs\u001b[38;5;241m=\u001b[39mcrs,\n\u001b[0;32m    335\u001b[0m         transform\u001b[38;5;241m=\u001b[39mtransform,\n\u001b[0;32m    336\u001b[0m         dtype\u001b[38;5;241m=\u001b[39mdtype,\n\u001b[0;32m    337\u001b[0m         nodata\u001b[38;5;241m=\u001b[39mnodata,\n\u001b[0;32m    338\u001b[0m         sharing\u001b[38;5;241m=\u001b[39msharing,\n\u001b[0;32m    339\u001b[0m         \u001b[38;5;241m*\u001b[39m\u001b[38;5;241m*\u001b[39mkwargs\n\u001b[0;32m    340\u001b[0m     )\n\u001b[0;32m    341\u001b[0m \u001b[38;5;28;01melse\u001b[39;00m:\n\u001b[0;32m    342\u001b[0m     \u001b[38;5;28;01mraise\u001b[39;00m DriverCapabilityError(\n\u001b[0;32m    343\u001b[0m         \u001b[38;5;124m\"\u001b[39m\u001b[38;5;124mWriter does not exist for driver: \u001b[39m\u001b[38;5;132;01m%s\u001b[39;00m\u001b[38;5;124m\"\u001b[39m \u001b[38;5;241m%\u001b[39m \u001b[38;5;28mstr\u001b[39m(driver)\n\u001b[0;32m    344\u001b[0m     )\n",
      "File \u001b[1;32mrasterio\\\\_io.pyx:1491\u001b[0m, in \u001b[0;36mrasterio._io.DatasetWriterBase.__init__\u001b[1;34m()\u001b[0m\n",
      "\u001b[1;31mRasterioIOError\u001b[0m: Attempt to create new tiff file 'C:/Users/carlo/Documents/EarthCul/Post processing/results/SierraNevada/viewshed.tif' failed: No such file or directory"
     ]
    }
   ],
   "source": [
    "import rasterio\n",
    "from rasterio.enums import Resampling\n",
    "import os\n",
    "import glob\n",
    "from tqdm import tqdm \n",
    "import numpy as np\n",
    "import georasters as gr\n",
    "import numpy as np\n",
    "import os\n",
    "import rasterio\n",
    "from rasterio.plot import show\n",
    "\n",
    "\n",
    "# Get the current directory of the script\n",
    "base_path = os.getcwd()\n",
    "#// Aiguestortes\n",
    "#// Ordesa\n",
    "#// Peneda\n",
    "#// Guadarrama\n",
    "#// Picos\n",
    "#// SierraNieves\n",
    "#// SierraNevada\n",
    "#// Teide\n",
    "\n",
    "\n",
    "parque = 'SierraNevada'\n",
    "\n",
    "# Relative paths\n",
    "input_folder_relative = f\"C:/Users/carlo/Documents/EarthCul/Remote sensing/results/{parque}\"\n",
    "output_folder = f\"C:/Users/carlo/Documents/EarthCul/Post processing/results/{parque}\"#os.path.join(base_path, f\"../Remote sensing/results/{parque}\")\n",
    "base_raster_path = f\"C:/Users/carlo/Documents/EarthCul/OSM/2) Derived metrics/BaseLayers/{parque}/Slope.tif\"\n",
    "input_files = glob.glob(os.path.join(base_path, input_folder_relative, '*.tif'))\n",
    "\n",
    "\n",
    "with rasterio.open(base_raster_path) as base_src:\n",
    "    for input_file in tqdm(input_files, desc=\"Aligning rasters\"):\n",
    "        with rasterio.open(input_file) as src:\n",
    "            data = src.read(1)\n",
    "            profile = src.profile\n",
    "\n",
    "            # Reproject/resample the input raster to match the base raster\n",
    "            data_resampled = np.zeros_like(base_src.read(1))\n",
    "            rasterio.warp.reproject(\n",
    "                source=data,\n",
    "                destination=data_resampled,\n",
    "                src_transform=src.transform,\n",
    "                src_crs=src.crs,\n",
    "                dst_transform=base_src.transform,\n",
    "                dst_crs=base_src.crs,\n",
    "                resampling=Resampling.nearest\n",
    "            )\n",
    "\n",
    "            # Update the profile of the input raster to match the base raster's metadata\n",
    "            profile_resampled = src.profile.copy()\n",
    "            profile_resampled.update({\n",
    "                'transform': base_src.transform,\n",
    "                'height': data_resampled.shape[0],\n",
    "                'width': data_resampled.shape[1],\n",
    "                'crs': base_src.crs\n",
    "            })\n",
    "            input_filename = os.path.basename(input_file)\n",
    "\n",
    "            # Save\n",
    "            output_path = os.path.join(output_folder, input_filename)\n",
    "            with rasterio.open(output_path, 'w', **profile_resampled) as dst:\n",
    "                dst.write(data_resampled, 1)"
   ]
  },
  {
   "cell_type": "markdown",
   "metadata": {},
   "source": [
    "Recortar los raster usando una mascara "
   ]
  },
  {
   "cell_type": "code",
   "execution_count": 9,
   "metadata": {},
   "outputs": [],
   "source": [
    "import os\n",
    "import glob\n",
    "import rasterio\n",
    "from rasterio.mask import mask\n",
    "import geopandas as gpd\n",
    "\n",
    "# Definir la ruta de la carpeta que contiene los rasters a recortar y la capa de máscara\n",
    "carpeta_rasters = f\"C:/Users/carlo/Documents/EarthCul/Post processing/results/{parque}\"#os.path.join(base_path, \"../Teledeteccion_variables/Alineados\")\n",
    "mascara_path = f\"C:/Users/carlo/Documents/EarthCul/OSM/2) Derived metrics/BaseLayers/{parque}/AOI_3035.shp\"\n",
    "\n",
    "# Cargar la capa de máscara\n",
    "mask_geom = gpd.read_file(mascara_path)\n",
    "mask_shapes = mask_geom.geometry\n",
    "\n",
    "# Iterar sobre todos los archivos raster en la carpeta\n",
    "for raster_path in glob.glob(os.path.join(carpeta_rasters, \"*.tif\")):\n",
    "    # Cargar el raster\n",
    "    with rasterio.open(raster_path) as src:\n",
    "        raster_crs = src.crs\n",
    "        raster_meta = src.meta.copy()\n",
    "\n",
    "        # Recortar el raster usando la capa de máscara\n",
    "        masked_data, masked_transform = mask(src, mask_shapes, crop=True)\n",
    "        masked_meta = src.meta.copy()\n",
    "\n",
    "        # Actualizar los metadatos del raster recortado\n",
    "        masked_meta.update({\n",
    "            \"height\": masked_data.shape[1],\n",
    "            \"width\": masked_data.shape[2],\n",
    "            \"transform\": masked_transform,\n",
    "            \"nodata\": -9999  # Opcional: ajusta el valor de nodata según sea necesario\n",
    "        })\n",
    "\n",
    "        # Guardar el raster recortado\n",
    "        nombre_raster = os.path.basename(raster_path)\n",
    "        output_path = os.path.join(os.path.join(base_path, f\"results/{parque}/clipped\"), nombre_raster)\n",
    "        with rasterio.open(output_path, 'w', **masked_meta) as dst:\n",
    "            dst.write(masked_data)\n",
    "\n"
   ]
  },
  {
   "cell_type": "markdown",
   "metadata": {},
   "source": [
    "## 1) Resample and align\n",
    "With this code you can resample all the tiffs from subfolders and save them in the same subfolders"
   ]
  },
  {
   "cell_type": "code",
   "execution_count": 2,
   "metadata": {},
   "outputs": [
    {
     "name": "stderr",
     "output_type": "stream",
     "text": [
      "Aligning rasters for Aiguestortes:   0%|          | 0/1 [00:00<?, ?it/s]"
     ]
    },
    {
     "name": "stderr",
     "output_type": "stream",
     "text": [
      "Aligning rasters for Aiguestortes: 100%|██████████| 1/1 [00:00<00:00,  4.28it/s]\n",
      "Aligning rasters for Ordesa: 100%|██████████| 1/1 [00:00<00:00,  6.08it/s]\n",
      "Aligning rasters for Peneda: 100%|██████████| 1/1 [00:00<00:00,  5.15it/s]\n",
      "Aligning rasters for Guadarrama: 100%|██████████| 1/1 [00:00<00:00,  5.68it/s]\n",
      "Aligning rasters for Picos: 100%|██████████| 1/1 [00:00<00:00,  5.43it/s]\n",
      "Aligning rasters for SierraNieves: 100%|██████████| 1/1 [00:00<00:00,  5.04it/s]\n",
      "Aligning rasters for SierraNevada: 100%|██████████| 1/1 [00:00<00:00,  3.62it/s]\n",
      "Aligning rasters for Teide: 100%|██████████| 1/1 [00:00<00:00,  6.98it/s]\n"
     ]
    }
   ],
   "source": [
    "import os\n",
    "import glob\n",
    "import rasterio\n",
    "import numpy as np\n",
    "from rasterio.warp import reproject, Resampling\n",
    "# from rasterio.enums import Resampling\n",
    "from tqdm import tqdm\n",
    "\n",
    "# Obtener el directorio actual del script\n",
    "base_path = os.getcwd()\n",
    "# parque = 'Aiguestortes'\n",
    "\n",
    "# Definir parques\n",
    "parques = ['Aiguestortes', 'Ordesa', 'Peneda', 'Guadarrama', 'Picos', 'SierraNieves', 'SierraNevada', 'Teide']\n",
    "\n",
    "# Ruta del directorio de entrada y salida\n",
    "input_base_folder = \"../Remote sensing/results\"\n",
    "output_base_folder = \"../Post processing/results/Aligned\"\n",
    "\n",
    "# Ruta de la capa base\n",
    "base_raster_path = f\"C:/Users/carlo/Documents/EarthCul/OSM/2) Derived metrics/BaseLayers/{parque}/Slope.tif\"\n",
    "\n",
    "for parque in parques:\n",
    "    input_folder = os.path.join(base_path, input_base_folder, parque)\n",
    "    output_folder = os.path.join(base_path, output_base_folder, parque)\n",
    "\n",
    "    # Crear la carpeta de salida si no existe\n",
    "    os.makedirs(output_folder, exist_ok=True)\n",
    "\n",
    "    # Buscar archivos TIF en la carpeta de entrada y sus subcarpetas\n",
    "    input_files = glob.glob(os.path.join(input_folder, '**/*.tif'), recursive=True)\n",
    "\n",
    "    # Ruta de la capa base para este parque\n",
    "    base_raster_path_parque = base_raster_path.format(parque=parque)\n",
    "\n",
    "    with rasterio.open(base_raster_path_parque) as base_src:\n",
    "        for input_file in tqdm(input_files, desc=f\"Aligning rasters for {parque}\"):\n",
    "            with rasterio.open(input_file) as src:\n",
    "                data = src.read(1)\n",
    "                profile = src.profile\n",
    "\n",
    "                # Reproject/resample the input raster to match the base raster\n",
    "                data_resampled = np.zeros_like(base_src.read(1))\n",
    "                rasterio.warp.reproject(\n",
    "                    source=data,\n",
    "                    destination=data_resampled,\n",
    "                    src_transform=src.transform,\n",
    "                    src_crs=src.crs,\n",
    "                    dst_transform=base_src.transform,\n",
    "                    dst_crs=base_src.crs,\n",
    "                    resampling=Resampling.nearest\n",
    "                )\n",
    "\n",
    "                # Update the profile of the input raster to match the base raster's metadata\n",
    "                profile_resampled = src.profile.copy()\n",
    "                profile_resampled.update({\n",
    "                    'transform': base_src.transform,\n",
    "                    'height': data_resampled.shape[0],\n",
    "                    'width': data_resampled.shape[1],\n",
    "                    'crs': base_src.crs\n",
    "                })\n",
    "                input_filename = os.path.relpath(input_file, input_folder)\n",
    "\n",
    "                # Save\n",
    "                output_path = os.path.join(output_folder, input_filename)\n",
    "                os.makedirs(os.path.dirname(output_path), exist_ok=True)\n",
    "                with rasterio.open(output_path, 'w', **profile_resampled) as dst:\n",
    "                    dst.write(data_resampled, 1)\n"
   ]
  },
  {
   "cell_type": "markdown",
   "metadata": {},
   "source": [
    "## 2) Clip using a shapefile from the grid layer \n"
   ]
  },
  {
   "cell_type": "markdown",
   "metadata": {},
   "source": [
    "Aplicar para carpetas y subcarpetas"
   ]
  },
  {
   "cell_type": "markdown",
   "metadata": {},
   "source": [
    "## Recortar los archivos "
   ]
  },
  {
   "cell_type": "code",
   "execution_count": 3,
   "metadata": {},
   "outputs": [
    {
     "data": {
      "text/plain": [
       "<osgeo.gdal.Dataset; proxy of <Swig Object of type 'GDALDatasetShadow *' at 0x000002B3C47C1110> >"
      ]
     },
     "execution_count": 3,
     "metadata": {},
     "output_type": "execute_result"
    }
   ],
   "source": [
    "import os\n",
    "from osgeo import gdal\n",
    "\n",
    "# Definir la lista de parques\n",
    "parques = ['Aiguestortes', 'Ordesa', 'Peneda', 'Guadarrama', 'Picos', 'SierraNieves', 'SierraNevada', 'Teide']\n",
    "\n",
    "# Ruta al shapefile de máscara\n",
    "base_mask_folder = 'C:/Users/carlo/Documents/EarthCul/OSM/2) Derived metrics/BaseLayers'\n",
    "\n",
    "# Carpeta base para los rasters de entrada y salida\n",
    "base_input_folder = 'C:/Users/carlo/Documents/EarthCul/Post processing/results/Aligned'\n",
    "base_output_folder = 'C:/Users/carlo/Documents/EarthCul/Post processing/results/Clipped'\n",
    "\n",
    "# Función para copiar la estructura de carpetas de entrada a salida\n",
    "def copy_folder_structure(input_folder, output_folder):\n",
    "    for dirpath, dirnames, filenames in os.walk(input_folder):\n",
    "        structure = os.path.join(output_folder, os.path.relpath(dirpath, input_folder))\n",
    "        os.makedirs(structure, exist_ok=True)\n",
    "\n",
    "# Iterar sobre los parques\n",
    "for parque in parques:\n",
    "    input_parque_folder = os.path.join(base_input_folder, parque)\n",
    "    output_parque_folder = os.path.join(base_output_folder, parque)\n",
    "    mask_shapefile = os.path.join(base_mask_folder, parque, 'AOI_3035.shp')\n",
    "\n",
    "    # Crear la carpeta de salida del parque si no existe\n",
    "    os.makedirs(output_parque_folder, exist_ok=True)\n",
    "\n",
    "    # Copiar la estructura de carpetas del parque de entrada a salida\n",
    "    copy_folder_structure(input_parque_folder, output_parque_folder)\n",
    "\n",
    "    # Función para recortar rasters\n",
    "    def recortar_raster(input_raster, output_raster):\n",
    "        gdal.Warp(output_raster, input_raster, cutlineDSName=mask_shapefile, cropToCutline=True, dstNodata=-9999)\n",
    "\n",
    "    # Iterar sobre todos los archivos en la carpeta de entrada del parque\n",
    "    for dirpath, dirnames, filenames in os.walk(input_parque_folder):\n",
    "        for filename in filenames:\n",
    "            if filename.endswith('.tif'):\n",
    "                input_raster = os.path.join(dirpath, filename)\n",
    "                output_raster = os.path.join(output_parque_folder, os.path.relpath(input_raster, input_parque_folder))\n",
    "                \n",
    "                # Recortar el raster usando gdal.Warp\n",
    "                recortar_raster(input_raster, output_raster)\n",
    "\n",
    "\n",
    "gdal.Warp(output_raster, input_raster, cutlineDSName=mask_shapefile, cropToCutline=True, dstNodata=-9999)"
   ]
  }
 ],
 "metadata": {
  "kernelspec": {
   "display_name": "base",
   "language": "python",
   "name": "python3"
  },
  "language_info": {
   "codemirror_mode": {
    "name": "ipython",
    "version": 3
   },
   "file_extension": ".py",
   "mimetype": "text/x-python",
   "name": "python",
   "nbconvert_exporter": "python",
   "pygments_lexer": "ipython3",
   "version": "3.11.5"
  }
 },
 "nbformat": 4,
 "nbformat_minor": 2
}
