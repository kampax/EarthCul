{
 "cells": [
  {
   "cell_type": "markdown",
   "metadata": {},
   "source": [
    "This code was used to align and clip all rasters.\n",
    "For this we use a base layer, in our case we use the projected slopes layer in 3035 with a pixel size of 100 meters"
   ]
  },
  {
   "cell_type": "code",
   "execution_count": null,
   "metadata": {},
   "outputs": [],
   "source": [
    "import rasterio\n",
    "from rasterio.enums import Resampling\n",
    "import os\n",
    "import glob\n",
    "from tqdm import tqdm \n",
    "import numpy as np\n",
    "import georasters as gr\n",
    "import numpy as np\n",
    "import os\n",
    "import rasterio\n",
    "from rasterio.plot import show\n",
    "\n",
    "\n",
    "# Get the current directory of the script\n",
    "base_path = os.getcwd()\n",
    "#// Aiguestortes\n",
    "#// Ordesa\n",
    "#// Peneda\n",
    "#// Guadarrama\n",
    "#// Picos\n",
    "#// SierraNieves\n",
    "#// SierraNevada\n",
    "#// Teide\n",
    "\n",
    "\n",
    "parque = 'SierraNevada'\n",
    "\n",
    "# Relative paths\n",
    "input_folder_relative = f\"C:/Users/carlo/Documents/EarthCul/Remote sensing/results/{parque}\"\n",
    "output_folder = f\"C:/Users/carlo/Documents/EarthCul/Post processing/results/{parque}\"#os.path.join(base_path, f\"../Remote sensing/results/{parque}\")\n",
    "base_raster_path = f\"C:/Users/carlo/Documents/EarthCul/OSM/2) Derived metrics/BaseLayers/{parque}/Slope.tif\"\n",
    "input_files = glob.glob(os.path.join(base_path, input_folder_relative, '*.tif'))\n",
    "\n",
    "\n",
    "with rasterio.open(base_raster_path) as base_src:\n",
    "    for input_file in tqdm(input_files, desc=\"Aligning rasters\"):\n",
    "        with rasterio.open(input_file) as src:\n",
    "            data = src.read(1)\n",
    "            profile = src.profile\n",
    "\n",
    "            # Reproject/resample the input raster to match the base raster\n",
    "            data_resampled = np.zeros_like(base_src.read(1))\n",
    "            rasterio.warp.reproject(\n",
    "                source=data,\n",
    "                destination=data_resampled,\n",
    "                src_transform=src.transform,\n",
    "                src_crs=src.crs,\n",
    "                dst_transform=base_src.transform,\n",
    "                dst_crs=base_src.crs,\n",
    "                resampling=Resampling.nearest\n",
    "            )\n",
    "\n",
    "            # Update the profile of the input raster to match the base raster's metadata\n",
    "            profile_resampled = src.profile.copy()\n",
    "            profile_resampled.update({\n",
    "                'transform': base_src.transform,\n",
    "                'height': data_resampled.shape[0],\n",
    "                'width': data_resampled.shape[1],\n",
    "                'crs': base_src.crs\n",
    "            })\n",
    "            input_filename = os.path.basename(input_file)\n",
    "\n",
    "            # Save\n",
    "            output_path = os.path.join(output_folder, input_filename)\n",
    "            with rasterio.open(output_path, 'w', **profile_resampled) as dst:\n",
    "                dst.write(data_resampled, 1)"
   ]
  },
  {
   "cell_type": "markdown",
   "metadata": {},
   "source": [
    "Clip rasters using a shapefile of each park "
   ]
  },
  {
   "cell_type": "code",
   "execution_count": null,
   "metadata": {},
   "outputs": [],
   "source": [
    "# Importing necessary libraries for clipping rasters\n",
    "import os\n",
    "import glob\n",
    "import rasterio\n",
    "from rasterio.mask import mask\n",
    "import geopandas as gpd\n",
    "\n",
    "# Define the base path and the park name\n",
    "\n",
    "rasters_folder = f\"C:/Users/carlo/Documents/EarthCul/Post processing/results/{parque}\"#os.path.join(base_path, \"../Teledeteccion_variables/Alineados\")\n",
    "mask_path = f\"C:/Users/carlo/Documents/EarthCul/OSM/2) Derived metrics/BaseLayers/{parque}/AOI_3035.shp\"\n",
    "\n",
    "# Cargar la capa de máscara\n",
    "mask_geom = gpd.read_file(mask_path)\n",
    "mask_shapes = mask_geom.geometry\n",
    "\n",
    "# Iterate through all raster files in the specified folder\n",
    "for raster_path in glob.glob(os.path.join(rasters_folder, \"*.tif\")):\n",
    "    # Open the raster file\n",
    "    with rasterio.open(raster_path) as src:\n",
    "        raster_crs = src.crs\n",
    "        raster_meta = src.meta.copy()\n",
    "\n",
    "        # \n",
    "        masked_data, masked_transform = mask(src, mask_shapes, crop=True)\n",
    "        masked_meta = src.meta.copy()\n",
    "\n",
    "        # Update the metadata for the masked raster\n",
    "        masked_meta.update({\n",
    "            \"height\": masked_data.shape[1],\n",
    "            \"width\": masked_data.shape[2],\n",
    "            \"transform\": masked_transform,\n",
    "            \"nodata\": -9999  # Optional: set a nodata value for the masked raster\n",
    "        })\n",
    "\n",
    "        # save the masked raster\n",
    "        raster_name = os.path.basename(raster_path)\n",
    "        output_path = os.path.join(os.path.join(base_path, f\"results/{parque}/clipped\"), raster_name)\n",
    "        with rasterio.open(output_path, 'w', **masked_meta) as dst:\n",
    "            dst.write(masked_data)\n",
    "\n"
   ]
  },
  {
   "cell_type": "markdown",
   "metadata": {},
   "source": [
    "## 1) Resample and align\n",
    "With this code you can resample all the tiffs from subfolders and save them in the same subfolders"
   ]
  },
  {
   "cell_type": "code",
   "execution_count": null,
   "metadata": {},
   "outputs": [
    {
     "name": "stderr",
     "output_type": "stream",
     "text": [
      "Aligning rasters for Aiguestortes:   0%|          | 0/1 [00:00<?, ?it/s]"
     ]
    },
    {
     "name": "stderr",
     "output_type": "stream",
     "text": [
      "Aligning rasters for Aiguestortes: 100%|██████████| 1/1 [00:00<00:00,  4.28it/s]\n",
      "Aligning rasters for Ordesa: 100%|██████████| 1/1 [00:00<00:00,  6.08it/s]\n",
      "Aligning rasters for Peneda: 100%|██████████| 1/1 [00:00<00:00,  5.15it/s]\n",
      "Aligning rasters for Guadarrama: 100%|██████████| 1/1 [00:00<00:00,  5.68it/s]\n",
      "Aligning rasters for Picos: 100%|██████████| 1/1 [00:00<00:00,  5.43it/s]\n",
      "Aligning rasters for SierraNieves: 100%|██████████| 1/1 [00:00<00:00,  5.04it/s]\n",
      "Aligning rasters for SierraNevada: 100%|██████████| 1/1 [00:00<00:00,  3.62it/s]\n",
      "Aligning rasters for Teide: 100%|██████████| 1/1 [00:00<00:00,  6.98it/s]\n"
     ]
    }
   ],
   "source": [
    "import os\n",
    "import glob\n",
    "import rasterio\n",
    "import numpy as np\n",
    "from rasterio.warp import reproject, Resampling\n",
    "# from rasterio.enums import Resampling\n",
    "from tqdm import tqdm\n",
    "\n",
    "# obtain the current directory of the script\n",
    "base_path = os.getcwd()\n",
    "# parque = 'Aiguestortes'\n",
    "\n",
    "# Define the parks\n",
    "parks = ['Aiguestortes', 'Ordesa', 'Peneda', 'Guadarrama', 'Picos', 'SierraNieves', 'SierraNevada', 'Teide']\n",
    "\n",
    "# paths for input and output folders\n",
    "input_base_folder = \"../Remote sensing/results\"\n",
    "output_base_folder = \"../Post processing/results/Aligned\"\n",
    "\n",
    "# path to the base raster\n",
    "base_raster_path = f\"C:/Users/carlo/Documents/EarthCul/OSM/2) Derived metrics/BaseLayers/{parque}/Slope.tif\"\n",
    "\n",
    "for parque in parks:\n",
    "    # Define the input and output folders for each park\n",
    "    input_folder = os.path.join(base_path, input_base_folder, parque)\n",
    "    output_folder = os.path.join(base_path, output_base_folder, parque)\n",
    "\n",
    "    # Create the output folder if it doesn't exist\n",
    "    os.makedirs(output_folder, exist_ok=True)\n",
    "\n",
    "    # Search for TIF files in the input folder and its subfolders\n",
    "    input_files = glob.glob(os.path.join(input_folder, '**/*.tif'), recursive=True)\n",
    "\n",
    "    # path to the base raster for this park\n",
    "    base_raster_path_parque = base_raster_path.format(parque=parque)\n",
    "\n",
    "    with rasterio.open(base_raster_path_parque) as base_src:\n",
    "        for input_file in tqdm(input_files, desc=f\"Aligning rasters for {parque}\"):\n",
    "            with rasterio.open(input_file) as src:\n",
    "                data = src.read(1)\n",
    "                profile = src.profile\n",
    "\n",
    "                # Reproject/resample the input raster to match the base raster\n",
    "                data_resampled = np.zeros_like(base_src.read(1))\n",
    "                rasterio.warp.reproject(\n",
    "                    source=data,\n",
    "                    destination=data_resampled,\n",
    "                    src_transform=src.transform,\n",
    "                    src_crs=src.crs,\n",
    "                    dst_transform=base_src.transform,\n",
    "                    dst_crs=base_src.crs,\n",
    "                    resampling=Resampling.nearest\n",
    "                )\n",
    "\n",
    "                # Update the profile of the input raster to match the base raster's metadata\n",
    "                profile_resampled = src.profile.copy()\n",
    "                profile_resampled.update({\n",
    "                    'transform': base_src.transform,\n",
    "                    'height': data_resampled.shape[0],\n",
    "                    'width': data_resampled.shape[1],\n",
    "                    'crs': base_src.crs\n",
    "                })\n",
    "                input_filename = os.path.relpath(input_file, input_folder)\n",
    "\n",
    "                # Save\n",
    "                output_path = os.path.join(output_folder, input_filename)\n",
    "                os.makedirs(os.path.dirname(output_path), exist_ok=True)\n",
    "                with rasterio.open(output_path, 'w', **profile_resampled) as dst:\n",
    "                    dst.write(data_resampled, 1)\n"
   ]
  },
  {
   "cell_type": "markdown",
   "metadata": {},
   "source": [
    "## 2) Clip using a shapefile from the grid layer \n"
   ]
  },
  {
   "cell_type": "markdown",
   "metadata": {},
   "source": [
    "Aplicar for folders and subfolders"
   ]
  },
  {
   "cell_type": "markdown",
   "metadata": {},
   "source": [
    "## Clip the raster to the extent of the polygon"
   ]
  },
  {
   "cell_type": "code",
   "execution_count": null,
   "metadata": {},
   "outputs": [
    {
     "data": {
      "text/plain": [
       "<osgeo.gdal.Dataset; proxy of <Swig Object of type 'GDALDatasetShadow *' at 0x000002B3C47C1110> >"
      ]
     },
     "execution_count": 3,
     "metadata": {},
     "output_type": "execute_result"
    }
   ],
   "source": [
    "import os\n",
    "from osgeo import gdal\n",
    "\n",
    "# Define the parks\n",
    "parques = ['Aiguestortes', 'Ordesa', 'Peneda', 'Guadarrama', 'Picos', 'SierraNieves', 'SierraNevada', 'Teide']\n",
    "\n",
    "# Path to the base mask folder containing the shapefiles\n",
    "base_mask_folder = 'C:/Users/carlo/Documents/EarthCul/OSM/2) Derived metrics/BaseLayers'\n",
    "\n",
    "# Base folders for input and output rasters\n",
    "base_input_folder = 'C:/Users/carlo/Documents/EarthCul/Post processing/results/Aligned'\n",
    "base_output_folder = 'C:/Users/carlo/Documents/EarthCul/Post processing/results/Clipped'\n",
    "\n",
    "# Funtion to copy the folder structure\n",
    "def copy_folder_structure(input_folder, output_folder):\n",
    "    for dirpath, dirnames, filenames in os.walk(input_folder):\n",
    "        structure = os.path.join(output_folder, os.path.relpath(dirpath, input_folder))\n",
    "        os.makedirs(structure, exist_ok=True)\n",
    "\n",
    "# iterate over the parks\n",
    "for parque in parques:\n",
    "    input_parque_folder = os.path.join(base_input_folder, parque)\n",
    "    output_parque_folder = os.path.join(base_output_folder, parque)\n",
    "    mask_shapefile = os.path.join(base_mask_folder, parque, 'AOI_3035.shp')\n",
    "\n",
    "    # Create the output folder if it doesn't exist\n",
    "    os.makedirs(output_parque_folder, exist_ok=True)\n",
    "\n",
    "    # Copy the folder structure from input to output\n",
    "    copy_folder_structure(input_parque_folder, output_parque_folder)\n",
    "\n",
    "    # Function to clip rasters\n",
    "    def recortar_raster(input_raster, output_raster):\n",
    "        gdal.Warp(output_raster, input_raster, cutlineDSName=mask_shapefile, cropToCutline=True, dstNodata=-9999)\n",
    "\n",
    "    #Iterate through all raster files in the input folder\n",
    "    for dirpath, dirnames, filenames in os.walk(input_parque_folder):\n",
    "        for filename in filenames:\n",
    "            if filename.endswith('.tif'):\n",
    "                input_raster = os.path.join(dirpath, filename)\n",
    "                output_raster = os.path.join(output_parque_folder, os.path.relpath(input_raster, input_parque_folder))\n",
    "                \n",
    "                # Clip the raster\n",
    "                recortar_raster(input_raster, output_raster)\n",
    "\n",
    "\n",
    "gdal.Warp(output_raster, input_raster, cutlineDSName=mask_shapefile, cropToCutline=True, dstNodata=-9999)"
   ]
  }
 ],
 "metadata": {
  "kernelspec": {
   "display_name": "base",
   "language": "python",
   "name": "python3"
  },
  "language_info": {
   "codemirror_mode": {
    "name": "ipython",
    "version": 3
   },
   "file_extension": ".py",
   "mimetype": "text/x-python",
   "name": "python",
   "nbconvert_exporter": "python",
   "pygments_lexer": "ipython3",
   "version": "3.11.5"
  }
 },
 "nbformat": 4,
 "nbformat_minor": 2
}
