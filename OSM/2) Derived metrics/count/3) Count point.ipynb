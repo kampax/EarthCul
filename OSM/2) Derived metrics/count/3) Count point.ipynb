{
 "cells": [
  {
   "cell_type": "markdown",
   "metadata": {},
   "source": [
    "- Date: 01/01/2024\n",
    "- Author: Carlos Javier Navarro\n",
    "- Project: EarthCul\n",
    "\n",
    "### Code to calculate count in points, or lines or polygons"
   ]
  },
  {
   "cell_type": "markdown",
   "metadata": {},
   "source": [
    "The first step is to eliminate duplicate geometries generated at the junction of the layers to avoid generating false counts.\n",
    "1) To do this, first polygonize the layers so that it is a single geometry type. In the case of points, a buffer of 10 meters is set\n",
    "2) Then stick only with the unique geometries.\n",
    "3) Count the geometries inside of grid"
   ]
  },
  {
   "cell_type": "code",
   "execution_count": 1,
   "metadata": {},
   "outputs": [
    {
     "name": "stderr",
     "output_type": "stream",
     "text": [
      "c:\\Users\\carlo\\anaconda3\\Lib\\site-packages\\geopandas\\io\\file.py:612: UserWarning: You are attempting to write an empty DataFrame to file. For some drivers, this operation may fail.\n",
      "  _to_file_fiona(df, filename, driver, schema, crs, mode, **kwargs)\n",
      "c:\\Users\\carlo\\anaconda3\\Lib\\site-packages\\geopandas\\io\\file.py:612: UserWarning: You are attempting to write an empty DataFrame to file. For some drivers, this operation may fail.\n",
      "  _to_file_fiona(df, filename, driver, schema, crs, mode, **kwargs)\n"
     ]
    }
   ],
   "source": [
    "import os\n",
    "import geopandas as gpd\n",
    "from shapely.geometry import Point\n",
    "from shapely.ops import polygonize\n",
    "from shapely.geometry import LineString\n",
    "\n",
    "base_path = os.getcwd()\n",
    "\n",
    "park = 'Aiguestortes'\n",
    "\n",
    "# Input and output folders\n",
    "# input_folder = os.path.join(base_path,f\"../../1) Variable download/EarthCul OSM/Aiguestortes OSM\\definitive variables\")\n",
    "\n",
    "input_folder = f'C:/Users/carlo/Documents/EarthCul/OSM/1) Variable download/EarthCul OSM/{park}/definitive variables'\n",
    "output_folder = f'C:/Users/carlo/Documents/EarthCul/OSM/2) Derived metrics/count/Poligons/{park}'\n",
    "\n",
    "def convert_to_polygon(geom):\n",
    "    if geom.geom_type == 'Point':\n",
    "        return Point(geom.x, geom.y).buffer(0.0001)\n",
    "    elif geom.geom_type == 'LineString':\n",
    "        polygons = list(polygonize([geom]))\n",
    "        if polygons: \n",
    "            return polygons[0]  \n",
    "        else:\n",
    "            return None  \n",
    "    else:\n",
    "        return geom\n",
    "\n",
    "\n",
    "# Iterate through all files in the input folder\n",
    "for file_name in os.listdir(input_folder):\n",
    "    if file_name.endswith('.geojson'):  \n",
    "        file_path = os.path.join(input_folder, file_name)\n",
    "        vector = gpd.read_file(file_path)\n",
    "        vector['geometry'] = vector['geometry'].apply(convert_to_polygon)    \n",
    "        output_file_path = os.path.join(output_folder, f\"{os.path.splitext(file_name)[0]}.geojson\")  \n",
    "        vector.to_file(output_file_path, driver='GeoJSON')"
   ]
  },
  {
   "cell_type": "markdown",
   "metadata": {},
   "source": [
    "2) After polygonizing select unique values "
   ]
  },
  {
   "cell_type": "code",
   "execution_count": null,
   "metadata": {},
   "outputs": [],
   "source": [
    "import os\n",
    "import glob\n",
    "import geopandas as gpd\n",
    "\n",
    "# Path of the folder containing the GeoJSON files\n",
    "input_folder = f'C:/Users/carlo/Documents/EarthCul/OSM/2) Derived metrics/count/Poligons/{park}'\n",
    "output_folder = f'C:/Users/carlo/Documents/EarthCul/OSM/2) Derived metrics/count/Poligons uniques/{park}'  \n",
    "\n",
    "# Pattern to select all GeoJSON files in folder\n",
    "patron = '*.geojson'\n",
    "archivos_geojson = glob.glob(os.path.join(input_folder, patron))\n",
    "\n",
    "# Process each GeoJSON file\n",
    "for archivo_geojson in archivos_geojson:\n",
    "    # Load the file into a GeoDataFrame\n",
    "    gdf = gpd.read_file(archivo_geojson)\n",
    "    \n",
    "    # Remove duplicate geometries\n",
    "    gdf_sin_duplicados = gdf.drop_duplicates()\n",
    "    \n",
    "    # Build the output path in the new folder\n",
    "    out_name = os.path.basename(archivo_geojson)\n",
    "    out_path = os.path.join(output_folder, out_name)\n",
    "    \n",
    "    # Save the new GeoDataFrame to a new GeoJSON file\n",
    "    gdf_sin_duplicados.to_file(out_path, driver='GeoJSON')\n",
    "    \n",
    "    print(f\"Duplicate geometries removed in {archivo_geojson}. New file saved in {out_path}\")\n",
    "\n",
    "print(\"Completed process.\")\n",
    "   \n"
   ]
  },
  {
   "cell_type": "code",
   "execution_count": 5,
   "metadata": {},
   "outputs": [
    {
     "name": "stdout",
     "output_type": "stream",
     "text": [
      "Archivo renombrado: accommodation_Aiguestortes_3035_polygon.geojson -> nuevo_nombre_1.geojson\n",
      "Archivo renombrado: amenity_bicycle_rental_Aiguestortes_3035_polygon.geojson -> nuevo_nombre_2.geojson\n",
      "Archivo renombrado: amenity_community_centre_Aiguestortes_3035_polygon.geojson -> nuevo_nombre_3.geojson\n",
      "Archivo renombrado: amenity_drinking_water_Aiguestortes_3035_polygon.geojson -> nuevo_nombre_4.geojson\n",
      "Archivo renombrado: amenity_fountain_Aiguestortes_3035_polygon.geojson -> nuevo_nombre_5.geojson\n",
      "Archivo renombrado: amenity_social_facility_Aiguestortes_3035_polygon.geojson -> nuevo_nombre_6.geojson\n",
      "Archivo renombrado: barAndRestaurant_Aiguestortes_3035_polygon.geojson -> nuevo_nombre_7.geojson\n",
      "Archivo renombrado: beaches_Aiguestortes_3035_polygon.geojson -> nuevo_nombre_8.geojson\n",
      "Archivo renombrado: bikeRoutes_Aiguestortes_3035_polygon.geojson -> nuevo_nombre_9.geojson\n",
      "Archivo renombrado: campsite_Aiguestortes_3035_polygon.geojson -> nuevo_nombre_10.geojson\n",
      "Archivo renombrado: geological_paleontological_site_Aiguestortes_3035_polygon.geojson -> nuevo_nombre_11.geojson\n",
      "Archivo renombrado: glacier_Aiguestortes_3035_polygon.geojson -> nuevo_nombre_12.geojson\n",
      "Archivo renombrado: greenSpaces_Aiguestortes_3035_polygon.geojson -> nuevo_nombre_13.geojson\n",
      "Archivo renombrado: highway_bus_stop_Aiguestortes_3035_polygon.geojson -> nuevo_nombre_14.geojson\n",
      "Archivo renombrado: historic_Aiguestortes_3035_polygon.geojson -> nuevo_nombre_15.geojson\n",
      "Archivo renombrado: lakes_Aiguestortes_3035_polygon.geojson -> nuevo_nombre_16.geojson\n",
      "Archivo renombrado: leisure_court_Aiguestortes_3035_polygon.geojson -> nuevo_nombre_17.geojson\n",
      "Archivo renombrado: parking_Aiguestortes_3035_polygon.geojson -> nuevo_nombre_18.geojson\n",
      "Archivo renombrado: place_square_Aiguestortes_3035_polygon.geojson -> nuevo_nombre_19.geojson\n",
      "Archivo renombrado: railway_rail_Aiguestortes_3035_polygon.geojson -> nuevo_nombre_20.geojson\n",
      "Archivo renombrado: recreational_Aiguestortes_3035_polygon.geojson -> nuevo_nombre_21.geojson\n",
      "Archivo renombrado: refuges_Aiguestortes_3035_polygon.geojson -> nuevo_nombre_22.geojson\n",
      "Archivo renombrado: religious_place_Aiguestortes_3035_polygon.geojson -> nuevo_nombre_23.geojson\n",
      "Archivo renombrado: rivers_Aiguestortes_3035_polygon.geojson -> nuevo_nombre_24.geojson\n",
      "Archivo renombrado: roads_Aiguestortes_3035_polygon.geojson -> nuevo_nombre_25.geojson\n",
      "Archivo renombrado: route_hiking_Aiguestortes_3035_polygon.geojson -> nuevo_nombre_26.geojson\n",
      "Archivo renombrado: sighting_points_Aiguestortes_3035_polygon.geojson -> nuevo_nombre_27.geojson\n",
      "Archivo renombrado: ski_facilities_Aiguestortes_3035_polygon.geojson -> nuevo_nombre_28.geojson\n",
      "Archivo renombrado: small_town_Aiguestortes_3035_polygon.geojson -> nuevo_nombre_29.geojson\n",
      "Archivo renombrado: sport_climbing_Aiguestortes_3035_polygon.geojson -> nuevo_nombre_30.geojson\n",
      "Archivo renombrado: streets_Aiguestortes_3035_polygon.geojson -> nuevo_nombre_31.geojson\n",
      "Archivo renombrado: tourismAttraction_Aiguestortes_3035_polygon.geojson -> nuevo_nombre_32.geojson\n",
      "Archivo renombrado: volcanic_Aiguestortes_3035_polygon.geojson -> nuevo_nombre_33.geojson\n",
      "Archivo renombrado: wifi_Aiguestortes_3035_polygon.geojson -> nuevo_nombre_34.geojson\n"
     ]
    }
   ],
   "source": [
    "import os\n",
    "\n",
    "# Ruta de la carpeta que contiene los archivos GeoJSON\n",
    "carpeta = f\"C:/Users/carlo/Documents/EarthCul/OSM/2) Derived metrics/count/Poligons uniques/{park}/test\"\n",
    "\n",
    "# Obtener la lista de archivos GeoJSON en la carpeta\n",
    "archivos_geojson = [archivo for archivo in os.listdir(carpeta) if archivo.endswith('.geojson')]\n",
    "\n",
    "# Iterar sobre cada archivo GeoJSON y renombrarlo\n",
    "for i, archivo in enumerate(archivos_geojson):\n",
    "    # Construir el nuevo nombre de archivo\n",
    "    nuevo_nombre = f\"nuevo_nombre_{i + 1}.geojson\"\n",
    "    \n",
    "    # Ruta completa del archivo original y nuevo\n",
    "    ruta_original = os.path.join(carpeta, archivo)\n",
    "    ruta_nuevo = os.path.join(carpeta, nuevo_nombre)\n",
    "    \n",
    "    # Renombrar el archivo\n",
    "    os.rename(ruta_original, ruta_nuevo)\n",
    "    \n",
    "    print(f\"Archivo renombrado: {archivo} -> {nuevo_nombre}\")"
   ]
  },
  {
   "cell_type": "markdown",
   "metadata": {},
   "source": [
    "\n",
    "As there are some layers that are lines, it is better to count them separately.\n",
    "These are\n",
    "- Rivers\n",
    "- Roads\n",
    "- bike_routes\n",
    "- hiking_trails\n",
    "- railway\n",
    "- streets"
   ]
  },
  {
   "cell_type": "code",
   "execution_count": 3,
   "metadata": {},
   "outputs": [
    {
     "name": "stdout",
     "output_type": "stream",
     "text": [
      "Overwriting bikeRoutes.geojson in C:/Users/carlo/Documents/Repositorio EarthCul/EarthCul/OSM/2) Derived metrics/count/Poligons uniques/Aiguestortes\n",
      "Overwriting railway_rail.geojson in C:/Users/carlo/Documents/Repositorio EarthCul/EarthCul/OSM/2) Derived metrics/count/Poligons uniques/Aiguestortes\n",
      "Overwriting rivers.geojson in C:/Users/carlo/Documents/Repositorio EarthCul/EarthCul/OSM/2) Derived metrics/count/Poligons uniques/Aiguestortes\n",
      "Overwriting roads.geojson in C:/Users/carlo/Documents/Repositorio EarthCul/EarthCul/OSM/2) Derived metrics/count/Poligons uniques/Aiguestortes\n",
      "Overwriting route_hiking.geojson in C:/Users/carlo/Documents/Repositorio EarthCul/EarthCul/OSM/2) Derived metrics/count/Poligons uniques/Aiguestortes\n",
      "Overwriting streets.geojson in C:/Users/carlo/Documents/Repositorio EarthCul/EarthCul/OSM/2) Derived metrics/count/Poligons uniques/Aiguestortes\n",
      "Files copied successfully.\n"
     ]
    }
   ],
   "source": [
    "import os\n",
    "import shutil\n",
    "import glob\n",
    "\n",
    "# Input and output directory\n",
    "source_directory = f'C:/Users/carlo/Documents/EarthCul/OSM/2) Derived metrics/count/Poligons/{park}' \n",
    "destination_directory = f'C:/Users/carlo/Documents/EarthCul/OSM/2) Derived metrics/count/Poligons uniques/{park}' \n",
    "\n",
    "# Terms to search for in file names\n",
    "search_terms = [\"rivers\", \"roads\", \"bike\", \"hiking\", \"railway\", \"streets\"]\n",
    "\n",
    "# Create the destination directory if it does not exist\n",
    "if not os.path.exists(destination_directory):\n",
    "    os.makedirs(destination_directory)\n",
    "\n",
    "# Get the list of files in the source directory\n",
    "files_in_source = glob.glob(os.path.join(source_directory, \"*.geojson\"))\n",
    "\n",
    "# Filter files based on terms\n",
    "files_to_move = [file for file in files_in_source if any(term in os.path.basename(file) for term in search_terms)]\n",
    "\n",
    "# Move the filtered files to the destination directory\n",
    "for file in files_to_move:\n",
    "    destination_file = os.path.join(destination_directory, os.path.basename(file))\n",
    "    \n",
    "    # Check if the file already exists in the destination directory\n",
    "    if os.path.exists(destination_file):\n",
    "        print(f\"Overwriting {os.path.basename(file)} in {destination_directory}\")\n",
    "        os.remove(destination_file)  # Remove the existing file\n",
    "    \n",
    "    # Move files\n",
    "    shutil.copy(file, destination_directory)\n",
    "\n",
    "print(\"Files copied successfully.\")\n"
   ]
  },
  {
   "cell_type": "markdown",
   "metadata": {},
   "source": [
    "Rename the files to simplify their name "
   ]
  },
  {
   "cell_type": "code",
   "execution_count": null,
   "metadata": {},
   "outputs": [],
   "source": [
    "# import os\n",
    "\n",
    "# # Path to the folder containing the GeoJSON files\n",
    "# folder_path = f\"C:/Users/carlo/Documents/EarthCul/OSM/2) Derived metrics/count/Poligons uniques/{park}\"\n",
    "\n",
    "# # Dictionary mapping existing file names to desired names\n",
    "# name_mapping = {\n",
    "#     \"accommodation.geojson\": \"accommodat.geojson\",\n",
    "#     \"amenity_bicycle_rental.geojson\": \"bicycle_re.geojson\",\n",
    "#     \"amenity_community_centre.geojson\": \"community.geojson\",\n",
    "#     \"amenity_drinking_water.geojson\": \"drinking_w.geojson\",\n",
    "#     \"amenity_fountain.geojson\": \"fountain.geojson\",\n",
    "#     \"amenity_social_facility.geojson\": \"social_fac.geojson\",\n",
    "#     \"barAndRestaurant.geojson\": \"barAndRest.geojson\",\n",
    "#     \"beaches.geojson\": \"beaches.geojson\",\n",
    "#     \"bikeRoutes.geojson\": \"bikeRoutes.geojson\",\n",
    "#     \"campsite.geojson\": \"campsite.geojson\",\n",
    "#     \"geological_paleontological_site.geojson\": \"paleontolo.geojson\",\n",
    "#     \"glacier.geojson\": \"glacier.geojson\",\n",
    "#     \"greenSpaces.geojson\": \"greenSpace.geojson\",\n",
    "#     \"highway_bus_stop.geojson\": \"bus_stop.geojson\",\n",
    "#     \"historic.geojson\": \"historic.geojson\",\n",
    "#     \"lakes.geojson\": \"lakes.geojson\",\n",
    "#     \"leisure_court.geojson\": \"court.geojson\",\n",
    "#     \"parking.geojson\": \"parking.geojson\",\n",
    "#     \"place_square.geojson\": \"square_.geojson\",\n",
    "#     \"railway_rail.geojson\": \"railway.geojson\",\n",
    "#     \"recreational.geojson\": \"recreation.geojson\",\n",
    "#     \"refuges.geojson\": \"refuges.geojson\",\n",
    "#     \"religious_place.geojson\": \"religious.geojson\",\n",
    "#     \"rivers.geojson\": \"rivers.geojson\",\n",
    "#     \"roads.geojson\": \"roads.geojson\",\n",
    "#     \"route_hiking.geojson\": \"route_hiki.geojson\",\n",
    "#     \"sighting_points.geojson\": \"sighting.geojson\",\n",
    "#     \"ski_facilities.geojson\": \"ski_facili.geojson\",\n",
    "#     \"small_town.geojson\": \"small_town.geojson\",\n",
    "#     \"sport_climbing.geojson\": \"sport_clim.geojson\",\n",
    "#     \"streets.geojson\": \"streets.geojson\",\n",
    "#     \"tourismAttraction.geojson\": \"tourismAtt.geojson\",\n",
    "#     \"volcanic.geojson\": \"volcanic.geojson\",\n",
    "#     \"wifi.geojson\": \"wifi.geojson\",\n",
    "# }\n",
    "\n",
    "# # Get the list of GeoJSON files in the folder\n",
    "# geojson_files = [file for file in os.listdir(folder_path) if file.endswith('.geojson')]\n",
    "\n",
    "# # Iterate over each GeoJSON file and rename it according to the mapping dictionary\n",
    "# for file_name in geojson_files:\n",
    "#     # Check if the file exists in the mapping dictionary\n",
    "#     if file_name in name_mapping:\n",
    "#         # Build the full path of the original file and the new name\n",
    "#         original_path = os.path.join(folder_path, file_name)\n",
    "#         new_name = name_mapping[file_name]\n",
    "#         new_path = os.path.join(folder_path, new_name)\n",
    "        \n",
    "#         # Rename the file\n",
    "#         os.rename(original_path, new_path)\n",
    "        \n",
    "#         print(f\"File renamed: {file_name} -> {new_name}\")\n",
    "#     else:\n",
    "#         print(f\"No mapped file name found for: {file_name}\")\n",
    "\n"
   ]
  },
  {
   "cell_type": "markdown",
   "metadata": {},
   "source": [
    "3) Make counts of all variables listed in a folder, this process take time (more than 30 minutes) depends the size of the study area"
   ]
  },
  {
   "cell_type": "code",
   "execution_count": 4,
   "metadata": {},
   "outputs": [
    {
     "name": "stderr",
     "output_type": "stream",
     "text": [
      "C:\\Users\\carlo\\AppData\\Local\\Temp\\ipykernel_9516\\3258722796.py:47: UserWarning: Column names longer than 10 characters will be truncated when saved to ESRI Shapefile.\n",
      "  grid.to_file(f'C:/Users/carlo/Documents/EarthCul/OSM/2) Derived metrics/count/results/{park}/grid_wgs84_atrib_count.shp', driver='ESRI Shapefile')\n"
     ]
    }
   ],
   "source": [
    "import os\n",
    "import json\n",
    "import geopandas as gpd\n",
    "\n",
    "# Path to the shapefile\n",
    "shapefile_path = f'C:/Users/carlo/Documents/EarthCul/OSM/Grids/{park}/grid_wgs84_atrib.shp'\n",
    "\n",
    "# Read the shapefile using geopandas\n",
    "grid = gpd.read_file(shapefile_path)\n",
    "\n",
    "# Path to the folder containing the GeoJSON files\n",
    "geojson_folder = f'C:/Users/carlo/Documents/EarthCul/OSM/2) Derived metrics/count/Poligons uniques/{park}'\n",
    "\n",
    "# List all files in the folder with .geojson extension\n",
    "geojson_files = [file for file in os.listdir(geojson_folder) if file.endswith('.geojson')]\n",
    "\n",
    "# Iterate over each GeoJSON file\n",
    "for geojson_file in geojson_files:\n",
    "    # Construct the full path of the GeoJSON file\n",
    "    geojson_path = os.path.join(geojson_folder, geojson_file)\n",
    "    \n",
    "    # Read the GeoJSON\n",
    "    with open(geojson_path, encoding='utf-8') as f:\n",
    "        point_data = json.load(f)\n",
    "    \n",
    "    # Convert the GeoJSON to GeoDataFrame\n",
    "    gdf = gpd.GeoDataFrame.from_features(point_data['features'])\n",
    "    \n",
    "    if gdf.empty:\n",
    "        pass\n",
    "    else:\n",
    "        # Create a new column in the grid GeoDataFrame to store point counts\n",
    "        column_name = f'{geojson_file}'  # Use part of the file name as the column name f'{geojson_file[:-13]}'\n",
    "        grid[column_name] = 0\n",
    "\n",
    "        # Iterate over each grid cell\n",
    "        for idx, cell in grid.iterrows():\n",
    "            # Filter points that are within the current cell \n",
    "            # points_in_cell = gdf[gdf.geometry.within(cell['geometry'])]\n",
    "\n",
    "            points_in_cell = gdf[gdf.geometry.intersects(cell['geometry'])]\n",
    "\n",
    "            # Get the number of points in the cell and update the corresponding column\n",
    "            grid.at[idx, column_name] = len(points_in_cell)\n",
    "\n",
    "# Save the result to a new shapefile\n",
    "grid.to_file(f'C:/Users/carlo/Documents/EarthCul/OSM/2) Derived metrics/count/results/{park}/grid_wgs84_atrib_count.shp', driver='ESRI Shapefile')\n",
    "\n"
   ]
  },
  {
   "cell_type": "markdown",
   "metadata": {},
   "source": [
    "To reproject the grid with the count values"
   ]
  },
  {
   "cell_type": "code",
   "execution_count": 5,
   "metadata": {},
   "outputs": [],
   "source": [
    "gdf = gpd.read_file(f'C:/Users/carlo/Documents/EarthCul/OSM/2) Derived metrics/count/results/{park}/grid_wgs84_atrib_count.shp')\n",
    "gdf = gdf.to_crs('EPSG:3035')\n",
    "# Save the GeoDataFrame to a new GeoJSON file\n",
    "gdf.to_file(f'C:/Users/carlo/Documents/EarthCul/OSM/2) Derived metrics/count/results/{park}/grid_3035_count.shp', driver='ESRI Shapefile')"
   ]
  },
  {
   "cell_type": "markdown",
   "metadata": {},
   "source": [
    "Finally rasterize the columns where from the grid with the values of the counts"
   ]
  },
  {
   "cell_type": "code",
   "execution_count": 6,
   "metadata": {},
   "outputs": [
    {
     "name": "stderr",
     "output_type": "stream",
     "text": [
      "Rasterizing Columns:  97%|█████████▋| 31/32 [11:32<00:22, 22.34s/it]\n"
     ]
    },
    {
     "ename": "TypeError",
     "evalue": "'<=' not supported between instances of 'Polygon' and 'Polygon'",
     "output_type": "error",
     "traceback": [
      "\u001b[1;31m---------------------------------------------------------------------------\u001b[0m",
      "\u001b[1;31mTypeError\u001b[0m                                 Traceback (most recent call last)",
      "Cell \u001b[1;32mIn[6], line 25\u001b[0m\n\u001b[0;32m     22\u001b[0m values \u001b[38;5;241m=\u001b[39m gdf[column]\u001b[38;5;241m.\u001b[39mvalues\n\u001b[0;32m     24\u001b[0m \u001b[38;5;66;03m# Rasterize the values\u001b[39;00m\n\u001b[1;32m---> 25\u001b[0m rasterized \u001b[38;5;241m=\u001b[39m features\u001b[38;5;241m.\u001b[39mrasterize(\n\u001b[0;32m     26\u001b[0m     \u001b[38;5;28mzip\u001b[39m(gdf\u001b[38;5;241m.\u001b[39mgeometry, values),\n\u001b[0;32m     27\u001b[0m     out_shape\u001b[38;5;241m=\u001b[39m(profile[\u001b[38;5;124m'\u001b[39m\u001b[38;5;124mheight\u001b[39m\u001b[38;5;124m'\u001b[39m], profile[\u001b[38;5;124m'\u001b[39m\u001b[38;5;124mwidth\u001b[39m\u001b[38;5;124m'\u001b[39m]),\n\u001b[0;32m     28\u001b[0m     transform\u001b[38;5;241m=\u001b[39mprofile[\u001b[38;5;124m'\u001b[39m\u001b[38;5;124mtransform\u001b[39m\u001b[38;5;124m'\u001b[39m],\n\u001b[0;32m     29\u001b[0m     fill\u001b[38;5;241m=\u001b[39m\u001b[38;5;241m-\u001b[39m\u001b[38;5;241m999.99\u001b[39m,  \n\u001b[0;32m     30\u001b[0m     all_touched\u001b[38;5;241m=\u001b[39m\u001b[38;5;28;01mTrue\u001b[39;00m,  \n\u001b[0;32m     31\u001b[0m     default_value\u001b[38;5;241m=\u001b[39m\u001b[38;5;241m0\u001b[39m,  \n\u001b[0;32m     32\u001b[0m     dtype\u001b[38;5;241m=\u001b[39mprofile[\u001b[38;5;124m'\u001b[39m\u001b[38;5;124mdtype\u001b[39m\u001b[38;5;124m'\u001b[39m]  \n\u001b[0;32m     33\u001b[0m )\n\u001b[0;32m     35\u001b[0m output_path \u001b[38;5;241m=\u001b[39m os\u001b[38;5;241m.\u001b[39mpath\u001b[38;5;241m.\u001b[39mjoin(output_folder, \u001b[38;5;124mf\u001b[39m\u001b[38;5;124m'\u001b[39m\u001b[38;5;132;01m{\u001b[39;00mcolumn\u001b[38;5;132;01m}\u001b[39;00m\u001b[38;5;124m.tif\u001b[39m\u001b[38;5;124m'\u001b[39m)\n\u001b[0;32m     37\u001b[0m \u001b[38;5;66;03m# Save the outputs\u001b[39;00m\n",
      "File \u001b[1;32mc:\\Users\\carlo\\anaconda3\\Lib\\site-packages\\rasterio\\env.py:398\u001b[0m, in \u001b[0;36mensure_env.<locals>.wrapper\u001b[1;34m(*args, **kwds)\u001b[0m\n\u001b[0;32m    395\u001b[0m \u001b[38;5;129m@wraps\u001b[39m(f)\n\u001b[0;32m    396\u001b[0m \u001b[38;5;28;01mdef\u001b[39;00m \u001b[38;5;21mwrapper\u001b[39m(\u001b[38;5;241m*\u001b[39margs, \u001b[38;5;241m*\u001b[39m\u001b[38;5;241m*\u001b[39mkwds):\n\u001b[0;32m    397\u001b[0m     \u001b[38;5;28;01mif\u001b[39;00m local\u001b[38;5;241m.\u001b[39m_env:\n\u001b[1;32m--> 398\u001b[0m         \u001b[38;5;28;01mreturn\u001b[39;00m f(\u001b[38;5;241m*\u001b[39margs, \u001b[38;5;241m*\u001b[39m\u001b[38;5;241m*\u001b[39mkwds)\n\u001b[0;32m    399\u001b[0m     \u001b[38;5;28;01melse\u001b[39;00m:\n\u001b[0;32m    400\u001b[0m         \u001b[38;5;28;01mwith\u001b[39;00m Env\u001b[38;5;241m.\u001b[39mfrom_defaults():\n",
      "File \u001b[1;32mc:\\Users\\carlo\\anaconda3\\Lib\\site-packages\\rasterio\\features.py:335\u001b[0m, in \u001b[0;36mrasterize\u001b[1;34m(shapes, out_shape, fill, out, transform, all_touched, merge_alg, default_value, dtype)\u001b[0m\n\u001b[0;32m    331\u001b[0m     \u001b[38;5;28;01mraise\u001b[39;00m \u001b[38;5;167;01mValueError\u001b[39;00m(\u001b[38;5;124m'\u001b[39m\u001b[38;5;124mNo valid geometry objects found for rasterize\u001b[39m\u001b[38;5;124m'\u001b[39m)\n\u001b[0;32m    333\u001b[0m shape_values \u001b[38;5;241m=\u001b[39m np\u001b[38;5;241m.\u001b[39marray(shape_values)\n\u001b[1;32m--> 335\u001b[0m \u001b[38;5;28;01mif\u001b[39;00m \u001b[38;5;129;01mnot\u001b[39;00m validate_dtype(shape_values, valid_dtypes):\n\u001b[0;32m    336\u001b[0m     \u001b[38;5;28;01mraise\u001b[39;00m \u001b[38;5;167;01mValueError\u001b[39;00m(format_invalid_dtype(\u001b[38;5;124m'\u001b[39m\u001b[38;5;124mshape values\u001b[39m\u001b[38;5;124m'\u001b[39m))\n\u001b[0;32m    338\u001b[0m \u001b[38;5;28;01mif\u001b[39;00m dtype \u001b[38;5;129;01mis\u001b[39;00m \u001b[38;5;28;01mNone\u001b[39;00m:\n",
      "File \u001b[1;32mc:\\Users\\carlo\\anaconda3\\Lib\\site-packages\\rasterio\\dtypes.py:250\u001b[0m, in \u001b[0;36mvalidate_dtype\u001b[1;34m(values, valid_dtypes)\u001b[0m\n\u001b[0;32m    246\u001b[0m \u001b[38;5;28;01mif\u001b[39;00m \u001b[38;5;129;01mnot\u001b[39;00m is_ndarray(values):\n\u001b[0;32m    247\u001b[0m     values \u001b[38;5;241m=\u001b[39m np\u001b[38;5;241m.\u001b[39marray(values)\n\u001b[0;32m    249\u001b[0m \u001b[38;5;28;01mreturn\u001b[39;00m (values\u001b[38;5;241m.\u001b[39mdtype\u001b[38;5;241m.\u001b[39mname \u001b[38;5;129;01min\u001b[39;00m valid_dtypes \u001b[38;5;129;01mor\u001b[39;00m\n\u001b[1;32m--> 250\u001b[0m         get_minimum_dtype(values) \u001b[38;5;129;01min\u001b[39;00m valid_dtypes)\n",
      "File \u001b[1;32mc:\\Users\\carlo\\anaconda3\\Lib\\site-packages\\rasterio\\dtypes.py:167\u001b[0m, in \u001b[0;36mget_minimum_dtype\u001b[1;34m(values)\u001b[0m\n\u001b[0;32m    164\u001b[0m \u001b[38;5;28;01mif\u001b[39;00m \u001b[38;5;129;01mnot\u001b[39;00m is_ndarray(values):\n\u001b[0;32m    165\u001b[0m     values \u001b[38;5;241m=\u001b[39m np\u001b[38;5;241m.\u001b[39marray(values)\n\u001b[1;32m--> 167\u001b[0m min_value \u001b[38;5;241m=\u001b[39m values\u001b[38;5;241m.\u001b[39mmin()\n\u001b[0;32m    168\u001b[0m max_value \u001b[38;5;241m=\u001b[39m values\u001b[38;5;241m.\u001b[39mmax()\n\u001b[0;32m    170\u001b[0m \u001b[38;5;28;01mif\u001b[39;00m values\u001b[38;5;241m.\u001b[39mdtype\u001b[38;5;241m.\u001b[39mkind \u001b[38;5;129;01min\u001b[39;00m (\u001b[38;5;124m'\u001b[39m\u001b[38;5;124mi\u001b[39m\u001b[38;5;124m'\u001b[39m, \u001b[38;5;124m'\u001b[39m\u001b[38;5;124mu\u001b[39m\u001b[38;5;124m'\u001b[39m):\n",
      "File \u001b[1;32mc:\\Users\\carlo\\anaconda3\\Lib\\site-packages\\numpy\\core\\_methods.py:45\u001b[0m, in \u001b[0;36m_amin\u001b[1;34m(a, axis, out, keepdims, initial, where)\u001b[0m\n\u001b[0;32m     43\u001b[0m \u001b[38;5;28;01mdef\u001b[39;00m \u001b[38;5;21m_amin\u001b[39m(a, axis\u001b[38;5;241m=\u001b[39m\u001b[38;5;28;01mNone\u001b[39;00m, out\u001b[38;5;241m=\u001b[39m\u001b[38;5;28;01mNone\u001b[39;00m, keepdims\u001b[38;5;241m=\u001b[39m\u001b[38;5;28;01mFalse\u001b[39;00m,\n\u001b[0;32m     44\u001b[0m           initial\u001b[38;5;241m=\u001b[39m_NoValue, where\u001b[38;5;241m=\u001b[39m\u001b[38;5;28;01mTrue\u001b[39;00m):\n\u001b[1;32m---> 45\u001b[0m     \u001b[38;5;28;01mreturn\u001b[39;00m umr_minimum(a, axis, \u001b[38;5;28;01mNone\u001b[39;00m, out, keepdims, initial, where)\n",
      "\u001b[1;31mTypeError\u001b[0m: '<=' not supported between instances of 'Polygon' and 'Polygon'"
     ]
    }
   ],
   "source": [
    "from tqdm import tqdm\n",
    "import os\n",
    "import geopandas as gpd\n",
    "import rasterio\n",
    "from rasterio import features\n",
    "# Grid and base raster\n",
    "Grid = f'C:/Users/carlo/Documents/EarthCul/OSM/2) Derived metrics/count/results/{park}/grid_3035_count.shp'\n",
    "\n",
    "Base_raster= f\"C:/Users/carlo/Documents/EarthCul/OSM/2) Derived metrics/BaseLayers/{park}/Slope.tif\" \n",
    "              \n",
    "# Output folder\n",
    "output_folder = f\"C:/Users/carlo/Documents/EarthCul/OSM/2) Derived metrics/count/results/{park}\"  \n",
    "\n",
    "gdf = gpd.read_file(Grid)\n",
    "\n",
    "with rasterio.open(Base_raster) as src:\n",
    "    profile = src.profile  \n",
    "\n",
    "    # Loop through columns to rasterize \n",
    "    columns_to_process = gdf.columns.tolist()[3:]\n",
    "    for column in tqdm(columns_to_process, desc='Rasterizing Columns'):\n",
    "        values = gdf[column].values\n",
    "        \n",
    "        # Rasterize the values\n",
    "        rasterized = features.rasterize(\n",
    "            zip(gdf.geometry, values),\n",
    "            out_shape=(profile['height'], profile['width']),\n",
    "            transform=profile['transform'],\n",
    "            fill=-999.99,  \n",
    "            all_touched=True,  \n",
    "            default_value=0,  \n",
    "            dtype=profile['dtype']  \n",
    "        )\n",
    " \n",
    "        output_path = os.path.join(output_folder, f'{column}.tif')\n",
    "        \n",
    "        # Save the outputs\n",
    "        with rasterio.open(output_path, 'w', **profile) as dst:\n",
    "            dst.write(rasterized, 1)\n"
   ]
  }
 ],
 "metadata": {
  "kernelspec": {
   "display_name": "base",
   "language": "python",
   "name": "python3"
  },
  "language_info": {
   "codemirror_mode": {
    "name": "ipython",
    "version": 3
   },
   "file_extension": ".py",
   "mimetype": "text/x-python",
   "name": "python",
   "nbconvert_exporter": "python",
   "pygments_lexer": "ipython3",
   "version": "3.11.5"
  }
 },
 "nbformat": 4,
 "nbformat_minor": 2
}
