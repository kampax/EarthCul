{
 "cells": [
  {
   "cell_type": "code",
   "execution_count": 4,
   "metadata": {},
   "outputs": [
    {
     "name": "stderr",
     "output_type": "stream",
     "text": [
      "C:\\Users\\carlo\\AppData\\Local\\Temp\\ipykernel_14180\\2721251281.py:30: UserWarning: Column names longer than 10 characters will be truncated when saved to ESRI Shapefile.\n",
      "  df.to_file(f'C:/Users/carlo/Documents/EarthCul/OSM/2) Derived metrics/presence/results/{park}/grid_3035_presence.shp', driver='ESRI Shapefile')\n"
     ]
    }
   ],
   "source": [
    "import pandas as pd\n",
    "import geopandas as gpd\n",
    "\n",
    "park = 'Aiguestortes'\n",
    "\n",
    "# Path to the shapefile\n",
    "shapefile_path = f'C:/Users/carlo/Documents/EarthCul/OSM/2) Derived metrics/count/results/{park}/grid_3035_count.shp'\n",
    "\n",
    "# Read the shapefile using geopandas\n",
    "df = gpd.read_file(shapefile_path)\n",
    "\n",
    "# Suppose you have a DataFrame named df with 34 columns\n",
    "# You can adjust this according to your DataFrame structure\n",
    "\n",
    "# Get the list of column names\n",
    "column_names = df.columns\n",
    "\n",
    "# columns_to_process = df.columns.tolist()[10:] # Uncomment this line if you want to select only some columns\n",
    "\n",
    "# Iterate over the columns and create new columns\n",
    "for column_name in column_names: # Replace column_to_process here if you want to select only some columns\n",
    "    # Create the name of the new column\n",
    "    new_column_name = 'pre_' + column_name\n",
    "    \n",
    "    # Create the new column with values 0 or 1\n",
    "    df[new_column_name] = df[column_name].apply(lambda x: 0 if x == 0 else 1)\n",
    "\n",
    "# Now, df contains the new columns with the desired values\n",
    "\n",
    "df.to_file(f'C:/Users/carlo/Documents/EarthCul/OSM/2) Derived metrics/presence/results/{park}/grid_3035_presence.shp', driver='ESRI Shapefile')\n"
   ]
  },
  {
   "cell_type": "code",
   "execution_count": 5,
   "metadata": {},
   "outputs": [
    {
     "name": "stderr",
     "output_type": "stream",
     "text": [
      "Rasterizing Columns:  97%|█████████▋| 35/36 [11:55<00:20, 20.43s/it]\n"
     ]
    },
    {
     "ename": "TypeError",
     "evalue": "'<=' not supported between instances of 'Polygon' and 'Polygon'",
     "output_type": "error",
     "traceback": [
      "\u001b[1;31m---------------------------------------------------------------------------\u001b[0m",
      "\u001b[1;31mTypeError\u001b[0m                                 Traceback (most recent call last)",
      "Cell \u001b[1;32mIn[5], line 22\u001b[0m\n\u001b[0;32m     19\u001b[0m values \u001b[38;5;241m=\u001b[39m gdf[column]\u001b[38;5;241m.\u001b[39mvalues\n\u001b[0;32m     21\u001b[0m \u001b[38;5;66;03m# Rasterize the values\u001b[39;00m\n\u001b[1;32m---> 22\u001b[0m rasterized \u001b[38;5;241m=\u001b[39m features\u001b[38;5;241m.\u001b[39mrasterize(\n\u001b[0;32m     23\u001b[0m     \u001b[38;5;28mzip\u001b[39m(gdf\u001b[38;5;241m.\u001b[39mgeometry, values),\n\u001b[0;32m     24\u001b[0m     out_shape\u001b[38;5;241m=\u001b[39m(profile[\u001b[38;5;124m'\u001b[39m\u001b[38;5;124mheight\u001b[39m\u001b[38;5;124m'\u001b[39m], profile[\u001b[38;5;124m'\u001b[39m\u001b[38;5;124mwidth\u001b[39m\u001b[38;5;124m'\u001b[39m]),\n\u001b[0;32m     25\u001b[0m     transform\u001b[38;5;241m=\u001b[39mprofile[\u001b[38;5;124m'\u001b[39m\u001b[38;5;124mtransform\u001b[39m\u001b[38;5;124m'\u001b[39m],\n\u001b[0;32m     26\u001b[0m     fill\u001b[38;5;241m=\u001b[39m\u001b[38;5;241m-\u001b[39m\u001b[38;5;241m999.99\u001b[39m,  \n\u001b[0;32m     27\u001b[0m     all_touched\u001b[38;5;241m=\u001b[39m\u001b[38;5;28;01mTrue\u001b[39;00m,  \n\u001b[0;32m     28\u001b[0m     default_value\u001b[38;5;241m=\u001b[39m\u001b[38;5;241m0\u001b[39m,  \n\u001b[0;32m     29\u001b[0m     dtype\u001b[38;5;241m=\u001b[39mprofile[\u001b[38;5;124m'\u001b[39m\u001b[38;5;124mdtype\u001b[39m\u001b[38;5;124m'\u001b[39m]  \n\u001b[0;32m     30\u001b[0m )\n\u001b[0;32m     32\u001b[0m output_path \u001b[38;5;241m=\u001b[39m os\u001b[38;5;241m.\u001b[39mpath\u001b[38;5;241m.\u001b[39mjoin(output_folder, \u001b[38;5;124mf\u001b[39m\u001b[38;5;124m'\u001b[39m\u001b[38;5;132;01m{\u001b[39;00mcolumn\u001b[38;5;132;01m}\u001b[39;00m\u001b[38;5;124m.tif\u001b[39m\u001b[38;5;124m'\u001b[39m)\n\u001b[0;32m     34\u001b[0m \u001b[38;5;66;03m# Save the outputs\u001b[39;00m\n",
      "File \u001b[1;32mc:\\Users\\carlo\\anaconda3\\Lib\\site-packages\\rasterio\\env.py:398\u001b[0m, in \u001b[0;36mensure_env.<locals>.wrapper\u001b[1;34m(*args, **kwds)\u001b[0m\n\u001b[0;32m    395\u001b[0m \u001b[38;5;129m@wraps\u001b[39m(f)\n\u001b[0;32m    396\u001b[0m \u001b[38;5;28;01mdef\u001b[39;00m \u001b[38;5;21mwrapper\u001b[39m(\u001b[38;5;241m*\u001b[39margs, \u001b[38;5;241m*\u001b[39m\u001b[38;5;241m*\u001b[39mkwds):\n\u001b[0;32m    397\u001b[0m     \u001b[38;5;28;01mif\u001b[39;00m local\u001b[38;5;241m.\u001b[39m_env:\n\u001b[1;32m--> 398\u001b[0m         \u001b[38;5;28;01mreturn\u001b[39;00m f(\u001b[38;5;241m*\u001b[39margs, \u001b[38;5;241m*\u001b[39m\u001b[38;5;241m*\u001b[39mkwds)\n\u001b[0;32m    399\u001b[0m     \u001b[38;5;28;01melse\u001b[39;00m:\n\u001b[0;32m    400\u001b[0m         \u001b[38;5;28;01mwith\u001b[39;00m Env\u001b[38;5;241m.\u001b[39mfrom_defaults():\n",
      "File \u001b[1;32mc:\\Users\\carlo\\anaconda3\\Lib\\site-packages\\rasterio\\features.py:335\u001b[0m, in \u001b[0;36mrasterize\u001b[1;34m(shapes, out_shape, fill, out, transform, all_touched, merge_alg, default_value, dtype)\u001b[0m\n\u001b[0;32m    331\u001b[0m     \u001b[38;5;28;01mraise\u001b[39;00m \u001b[38;5;167;01mValueError\u001b[39;00m(\u001b[38;5;124m'\u001b[39m\u001b[38;5;124mNo valid geometry objects found for rasterize\u001b[39m\u001b[38;5;124m'\u001b[39m)\n\u001b[0;32m    333\u001b[0m shape_values \u001b[38;5;241m=\u001b[39m np\u001b[38;5;241m.\u001b[39marray(shape_values)\n\u001b[1;32m--> 335\u001b[0m \u001b[38;5;28;01mif\u001b[39;00m \u001b[38;5;129;01mnot\u001b[39;00m validate_dtype(shape_values, valid_dtypes):\n\u001b[0;32m    336\u001b[0m     \u001b[38;5;28;01mraise\u001b[39;00m \u001b[38;5;167;01mValueError\u001b[39;00m(format_invalid_dtype(\u001b[38;5;124m'\u001b[39m\u001b[38;5;124mshape values\u001b[39m\u001b[38;5;124m'\u001b[39m))\n\u001b[0;32m    338\u001b[0m \u001b[38;5;28;01mif\u001b[39;00m dtype \u001b[38;5;129;01mis\u001b[39;00m \u001b[38;5;28;01mNone\u001b[39;00m:\n",
      "File \u001b[1;32mc:\\Users\\carlo\\anaconda3\\Lib\\site-packages\\rasterio\\dtypes.py:250\u001b[0m, in \u001b[0;36mvalidate_dtype\u001b[1;34m(values, valid_dtypes)\u001b[0m\n\u001b[0;32m    246\u001b[0m \u001b[38;5;28;01mif\u001b[39;00m \u001b[38;5;129;01mnot\u001b[39;00m is_ndarray(values):\n\u001b[0;32m    247\u001b[0m     values \u001b[38;5;241m=\u001b[39m np\u001b[38;5;241m.\u001b[39marray(values)\n\u001b[0;32m    249\u001b[0m \u001b[38;5;28;01mreturn\u001b[39;00m (values\u001b[38;5;241m.\u001b[39mdtype\u001b[38;5;241m.\u001b[39mname \u001b[38;5;129;01min\u001b[39;00m valid_dtypes \u001b[38;5;129;01mor\u001b[39;00m\n\u001b[1;32m--> 250\u001b[0m         get_minimum_dtype(values) \u001b[38;5;129;01min\u001b[39;00m valid_dtypes)\n",
      "File \u001b[1;32mc:\\Users\\carlo\\anaconda3\\Lib\\site-packages\\rasterio\\dtypes.py:167\u001b[0m, in \u001b[0;36mget_minimum_dtype\u001b[1;34m(values)\u001b[0m\n\u001b[0;32m    164\u001b[0m \u001b[38;5;28;01mif\u001b[39;00m \u001b[38;5;129;01mnot\u001b[39;00m is_ndarray(values):\n\u001b[0;32m    165\u001b[0m     values \u001b[38;5;241m=\u001b[39m np\u001b[38;5;241m.\u001b[39marray(values)\n\u001b[1;32m--> 167\u001b[0m min_value \u001b[38;5;241m=\u001b[39m values\u001b[38;5;241m.\u001b[39mmin()\n\u001b[0;32m    168\u001b[0m max_value \u001b[38;5;241m=\u001b[39m values\u001b[38;5;241m.\u001b[39mmax()\n\u001b[0;32m    170\u001b[0m \u001b[38;5;28;01mif\u001b[39;00m values\u001b[38;5;241m.\u001b[39mdtype\u001b[38;5;241m.\u001b[39mkind \u001b[38;5;129;01min\u001b[39;00m (\u001b[38;5;124m'\u001b[39m\u001b[38;5;124mi\u001b[39m\u001b[38;5;124m'\u001b[39m, \u001b[38;5;124m'\u001b[39m\u001b[38;5;124mu\u001b[39m\u001b[38;5;124m'\u001b[39m):\n",
      "File \u001b[1;32mc:\\Users\\carlo\\anaconda3\\Lib\\site-packages\\numpy\\core\\_methods.py:45\u001b[0m, in \u001b[0;36m_amin\u001b[1;34m(a, axis, out, keepdims, initial, where)\u001b[0m\n\u001b[0;32m     43\u001b[0m \u001b[38;5;28;01mdef\u001b[39;00m \u001b[38;5;21m_amin\u001b[39m(a, axis\u001b[38;5;241m=\u001b[39m\u001b[38;5;28;01mNone\u001b[39;00m, out\u001b[38;5;241m=\u001b[39m\u001b[38;5;28;01mNone\u001b[39;00m, keepdims\u001b[38;5;241m=\u001b[39m\u001b[38;5;28;01mFalse\u001b[39;00m,\n\u001b[0;32m     44\u001b[0m           initial\u001b[38;5;241m=\u001b[39m_NoValue, where\u001b[38;5;241m=\u001b[39m\u001b[38;5;28;01mTrue\u001b[39;00m):\n\u001b[1;32m---> 45\u001b[0m     \u001b[38;5;28;01mreturn\u001b[39;00m umr_minimum(a, axis, \u001b[38;5;28;01mNone\u001b[39;00m, out, keepdims, initial, where)\n",
      "\u001b[1;31mTypeError\u001b[0m: '<=' not supported between instances of 'Polygon' and 'Polygon'"
     ]
    }
   ],
   "source": [
    "from tqdm import tqdm\n",
    "import os\n",
    "import geopandas as gpd\n",
    "import rasterio\n",
    "from rasterio import features\n",
    "Base_raster= f\"C:/Users/carlo/Documents/EarthCul/OSM/2) Derived metrics/BaseLayers/{park}/Slope.tif\" \n",
    "              \n",
    "# Output folder\n",
    "output_folder = f\"C:/Users/carlo/Documents/EarthCul/OSM/2) Derived metrics/presence/results/{park}\"  \n",
    "\n",
    "gdf = gpd.read_file(f'C:/Users/carlo/Documents/EarthCul/OSM/2) Derived metrics/presence/results/{park}/grid_3035_presence.shp')\n",
    "\n",
    "with rasterio.open(Base_raster) as src:\n",
    "    profile = src.profile  \n",
    "\n",
    "    # Loop through columns to rasterize \n",
    "    columns_to_process = gdf.columns.tolist()[34:]#select the correct columns\n",
    "    for column in tqdm(columns_to_process, desc='Rasterizing Columns'):\n",
    "        values = gdf[column].values\n",
    "        \n",
    "        # Rasterize the values\n",
    "        rasterized = features.rasterize(\n",
    "            zip(gdf.geometry, values),\n",
    "            out_shape=(profile['height'], profile['width']),\n",
    "            transform=profile['transform'],\n",
    "            fill=-999.99,  \n",
    "            all_touched=True,  \n",
    "            default_value=0,  \n",
    "            dtype=profile['dtype']  \n",
    "        )\n",
    " \n",
    "        output_path = os.path.join(output_folder, f'{column}.tif')\n",
    "        \n",
    "        # Save the outputs\n",
    "        with rasterio.open(output_path, 'w', **profile) as dst:\n",
    "            dst.write(rasterized, 1)"
   ]
  }
 ],
 "metadata": {
  "kernelspec": {
   "display_name": "Python 3",
   "language": "python",
   "name": "python3"
  },
  "language_info": {
   "codemirror_mode": {
    "name": "ipython",
    "version": 3
   },
   "file_extension": ".py",
   "mimetype": "text/x-python",
   "name": "python",
   "nbconvert_exporter": "python",
   "pygments_lexer": "ipython3",
   "version": "3.11.5"
  }
 },
 "nbformat": 4,
 "nbformat_minor": 2
}
