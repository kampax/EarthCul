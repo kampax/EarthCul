{
 "cells": [
  {
   "cell_type": "markdown",
   "metadata": {},
   "source": [
    "- Date: 01/01/2024\n",
    "- Author: Carlos Javier Navarro\n",
    "- Project: EarthCul\n",
    "\n",
    "### Code to calculate count in points, or lines or polygons"
   ]
  },
  {
   "cell_type": "markdown",
   "metadata": {},
   "source": [
    "# Join layers \n",
    "The idea is to join the different layers that have things in common into one. Example, the layers of the different roads (motorway, trunk, primary, secondary, etc.) can be joined into one layer."
   ]
  },
  {
   "cell_type": "markdown",
   "metadata": {},
   "source": [
    "Roads"
   ]
  },
  {
   "cell_type": "code",
   "execution_count": 1,
   "metadata": {},
   "outputs": [],
   "source": [
    "import geopandas as gpd\n",
    "import pandas as pd\n",
    "import os \n",
    "\n",
    "\n",
    "base_path = os.getcwd()\n",
    "#Lists of parks of interest\n",
    "#// Aiguestortes\n",
    "#// Ordesa\n",
    "#// Peneda\n",
    "#// Guadarrama\n",
    "#// Picos\n",
    "#// SierraNieves\n",
    "#// SierraNevada\n",
    "#// Teide\n",
    "park = 'Aiguestortes'\n",
    "\n",
    "# Load GeoJSON files as GeoDataFrames\n",
    "gdf_1 = gpd.read_file(os.path.join(base_path, f\"EarthCul OSM/{park}/highway_motorway.geojson\"))\n",
    "gdf_2 = gpd.read_file(os.path.join(base_path, f\"EarthCul OSM/{park}/highway_motorway_link.geojson\"))\n",
    "gdf_3 = gpd.read_file(os.path.join(base_path, f\"EarthCul OSM/{park}/highway_trunk.geojson\"))\n",
    "gdf_4 = gpd.read_file(os.path.join(base_path, f\"EarthCul OSM/{park}/highway_trunk_link.geojson\"))\n",
    "gdf_5 = gpd.read_file(os.path.join(base_path, f\"EarthCul OSM/{park}/highway_primary.geojson\"))\n",
    "gdf_6 = gpd.read_file(os.path.join(base_path, f\"EarthCul OSM/{park}/highway_secondary.geojson\"))\n",
    "gdf_7 = gpd.read_file(os.path.join(base_path, f\"EarthCul OSM/{park}/highway_tertiary.geojson\"))\n",
    "gdf_8 = gpd.read_file(os.path.join(base_path, f\"EarthCul OSM/{park}/highway_unclassified.geojson\"))\n",
    "# gdf_9 = gpd.read_file(\"C:/Users/carlo/Desktop/EarthCul OSM/Sierra Nevada/highway_trailhead_{park}.geojson\")\n",
    "gdf_10 = gpd.read_file(os.path.join(base_path, f\"EarthCul OSM/{park}/highway_track.geojson\"))\n",
    "\n",
    "# Combine the GeoDataFrames into one\n",
    "gdf_combinado = pd.concat([gdf_1, gdf_2,gdf_3, gdf_4, gdf_5, gdf_6,gdf_7, gdf_8, gdf_10], ignore_index=True)\n",
    "\n",
    "# Convert the combined DataFrame to a GeoDataFrame\n",
    "gdf_combinado = gpd.GeoDataFrame(gdf_combinado, geometry='geometry')\n",
    "\n",
    "# Save the combined GeoDataFrame to a new GeoJSON file\n",
    "gdf_combinado.to_file(os.path.join(base_path, f'EarthCul OSM/{park}/definitive variables/roads.geojson'), driver='GeoJSON')"
   ]
  },
  {
   "cell_type": "markdown",
   "metadata": {},
   "source": [
    "Bar and restaurants"
   ]
  },
  {
   "cell_type": "code",
   "execution_count": null,
   "metadata": {},
   "outputs": [],
   "source": [
    "# Load GeoJSON files as GeoDataFrames\n",
    "gdf_1 = gpd.read_file(os.path.join(base_path, f\"EarthCul OSM/{park}/amenity_bar.geojson\"))\n",
    "gdf_2 = gpd.read_file(os.path.join(base_path, f\"EarthCul OSM/{park}/amenity_cafe.geojson\"))\n",
    "gdf_3 = gpd.read_file(os.path.join(base_path, f\"EarthCul OSM/{park}/amenity_restaurant.geojson\"))\n",
    "\n",
    "# Combine the GeoDataFrames into one\n",
    "gdf_combinado = pd.concat([gdf_1, gdf_2,gdf_3], ignore_index=True)\n",
    "\n",
    "# Convert the combined DataFrame to a GeoDataFrame\n",
    "gdf_combinado = gpd.GeoDataFrame(gdf_combinado, geometry='geometry')\n",
    "\n",
    "# Save the combined GeoDataFrame to a new GeoJSON file\n",
    "gdf_combinado.to_file(os.path.join(base_path, f'EarthCul OSM/{park}/definitive variables/barAndRestaurant.geojson'), driver='GeoJSON')"
   ]
  },
  {
   "cell_type": "markdown",
   "metadata": {},
   "source": [
    "Beaches "
   ]
  },
  {
   "cell_type": "code",
   "execution_count": null,
   "metadata": {},
   "outputs": [],
   "source": [
    "# Load GeoJSON files as GeoDataFrames\n",
    "gdf_1 = gpd.read_file(os.path.join(base_path, f\"EarthCul OSM/{park}/natural_coastline.geojson\"))\n",
    "gdf_2 = gpd.read_file(os.path.join(base_path, f\"EarthCul OSM/{park}/natural_beach.geojson\"))\n",
    "\n",
    "# Combine the GeoDataFrames into one\n",
    "gdf_combinado = pd.concat([gdf_1, gdf_2], ignore_index=True)\n",
    "\n",
    "# Convert the combined DataFrame to a GeoDataFrame\n",
    "gdf_combinado = gpd.GeoDataFrame(gdf_combinado, geometry='geometry')\n",
    "\n",
    "# Save the combined GeoDataFrame to a new GeoJSON file\n",
    "gdf_combinado.to_file(os.path.join(base_path, f'EarthCul OSM/{park}/definitive variables/beaches.geojson'), driver='GeoJSON')"
   ]
  },
  {
   "cell_type": "markdown",
   "metadata": {},
   "source": [
    "Bike routes"
   ]
  },
  {
   "cell_type": "code",
   "execution_count": null,
   "metadata": {},
   "outputs": [],
   "source": [
    "# Load GeoJSON files as GeoDataFrames\n",
    "gdf_1 = gpd.read_file(os.path.join(base_path, f\"EarthCul OSM/{park}/route_mtb.geojson\"))\n",
    "gdf_2 = gpd.read_file(os.path.join(base_path, f\"EarthCul OSM/{park}/route_bicycle.geojson\"))\n",
    "\n",
    "# Combine the GeoDataFrames into one\n",
    "gdf_combinado = pd.concat([gdf_1, gdf_2], ignore_index=True)\n",
    "\n",
    "# Convert the combined DataFrame to a GeoDataFrame\n",
    "gdf_combinado = gpd.GeoDataFrame(gdf_combinado, geometry='geometry')\n",
    "\n",
    "# Save the combined GeoDataFrame to a new GeoJSON file\n",
    "gdf_combinado.to_file(os.path.join(base_path, f'EarthCul OSM/{park}/definitive variables/bikeRoutes.geojson'), driver='GeoJSON')"
   ]
  },
  {
   "cell_type": "markdown",
   "metadata": {},
   "source": [
    "Campsites"
   ]
  },
  {
   "cell_type": "code",
   "execution_count": null,
   "metadata": {},
   "outputs": [],
   "source": [
    "# Load GeoJSON files as GeoDataFrames\n",
    "gdf_1 = gpd.read_file(os.path.join(base_path, f\"EarthCul OSM/{park}/tourism_camp_site.geojson\"))\n",
    "gdf_2 = gpd.read_file(os.path.join(base_path, f\"EarthCul OSM/{park}/tourism_caravan_site.geojson\"))\n",
    "gdf_3 = gpd.read_file(os.path.join(base_path, f\"EarthCul OSM/{park}/tourism_camp_pitch.geojson\"))\n",
    "\n",
    "# Combine the GeoDataFrames into one\n",
    "gdf_combinado = pd.concat([gdf_1, gdf_2, gdf_3], ignore_index=True)\n",
    "\n",
    "# Convert the combined DataFrame to a GeoDataFrame\n",
    "gdf_combinado = gpd.GeoDataFrame(gdf_combinado, geometry='geometry')\n",
    "\n",
    "# Save the combined GeoDataFrame to a new GeoJSON file\n",
    "gdf_combinado.to_file(os.path.join(base_path, f'EarthCul OSM/{park}/definitive variables/campsite.geojson'), driver='GeoJSON')"
   ]
  },
  {
   "cell_type": "markdown",
   "metadata": {},
   "source": [
    "Glaciers"
   ]
  },
  {
   "cell_type": "code",
   "execution_count": null,
   "metadata": {},
   "outputs": [],
   "source": [
    "# Load GeoJSON files as GeoDataFrames\n",
    "gdf_1 = gpd.read_file(os.path.join(base_path, f'EarthCul OSM/{park}/geological_moraine.geojson'))\n",
    "gdf_2 = gpd.read_file(os.path.join(base_path, f'EarthCul OSM/{park}/natural_moraine.geojson'))\n",
    "gdf_3 = gpd.read_file(os.path.join(base_path, f'EarthCul OSM/{park}/natural_glacier.geojson'))\n",
    "# Combine the GeoDataFrames into one\n",
    "gdf_combinado = pd.concat([gdf_1, gdf_2, gdf_3], ignore_index=True)\n",
    "\n",
    "# Convert the combined DataFrame to a GeoDataFrame\n",
    "gdf_combinado = gpd.GeoDataFrame(gdf_combinado, geometry='geometry')\n",
    "\n",
    "# Save the combined GeoDataFrame to a new GeoJSON file\n",
    "gdf_combinado.to_file(os.path.join(base_path, f'EarthCul OSM/{park}/definitive variables/glacier.geojson'), driver='GeoJSON')"
   ]
  },
  {
   "cell_type": "markdown",
   "metadata": {},
   "source": [
    "Green spaces\n"
   ]
  },
  {
   "cell_type": "code",
   "execution_count": null,
   "metadata": {},
   "outputs": [],
   "source": [
    "# Load GeoJSON files as GeoDataFrames\n",
    "gdf_1 = gpd.read_file(os.path.join(base_path, f'EarthCul OSM/{park}/leisure_park.geojson'))\n",
    "gdf_2 = gpd.read_file(os.path.join(base_path, f'EarthCul OSM/{park}/tourism_picnic_site.geojson'))\n",
    "\n",
    "# Combine the GeoDataFrames into one\n",
    "gdf_combinado = pd.concat([gdf_1, gdf_2], ignore_index=True)\n",
    "\n",
    "# Convert the combined DataFrame to a GeoDataFrame\n",
    "gdf_combinado = gpd.GeoDataFrame(gdf_combinado, geometry='geometry')\n",
    "\n",
    "# Save the combined GeoDataFrame to a new GeoJSON file\n",
    "gdf_combinado.to_file(os.path.join(base_path, f'EarthCul OSM/{park}/definitive variables/greenSpaces.geojson'), driver='GeoJSON')"
   ]
  },
  {
   "cell_type": "markdown",
   "metadata": {},
   "source": [
    "Historic"
   ]
  },
  {
   "cell_type": "code",
   "execution_count": null,
   "metadata": {},
   "outputs": [],
   "source": [
    "# Load GeoJSON files as GeoDataFrames\n",
    "gdf_1 = gpd.read_file(os.path.join(base_path, f'EarthCul OSM/{park}/historic_monastery.geojson'))\n",
    "gdf_2 = gpd.read_file(os.path.join(base_path, f'EarthCul OSM/{park}/amenity_monastery.geojson'))\n",
    "gdf_3 = gpd.read_file(os.path.join(base_path, f'EarthCul OSM/{park}/historic_monument.geojson'))\n",
    "gdf_4 = gpd.read_file(os.path.join(base_path, f'EarthCul OSM/{park}/historic_memorial.geojson'))\n",
    "# Combine the GeoDataFrames into one\n",
    "gdf_combinado = pd.concat([gdf_1, gdf_2, gdf_3, gdf_4], ignore_index=True)\n",
    "\n",
    "# Convert the combined DataFrame to a GeoDataFrame\n",
    "gdf_combinado = gpd.GeoDataFrame(gdf_combinado, geometry='geometry')\n",
    "\n",
    "# Save the combined GeoDataFrame to a new GeoJSON file\n",
    "gdf_combinado.to_file(os.path.join(base_path, f'EarthCul OSM/{park}/definitive variables/historic.geojson'), driver='GeoJSON')"
   ]
  },
  {
   "cell_type": "markdown",
   "metadata": {},
   "source": [
    "Lakes"
   ]
  },
  {
   "cell_type": "code",
   "execution_count": null,
   "metadata": {},
   "outputs": [],
   "source": [
    "# Load GeoJSON files as GeoDataFrames\n",
    "gdf_1 = gpd.read_file(os.path.join(base_path, f'EarthCul OSM/{park}/water_lake.geojson'))\n",
    "gdf_2 = gpd.read_file(os.path.join(base_path, f'EarthCul OSM/{park}/water_lagoon.geojson'))\n",
    "gdf_3 = gpd.read_file(os.path.join(base_path, f'EarthCul OSM/{park}/water_oxbow.geojson'))\n",
    "# Combine the GeoDataFrames into one\n",
    "gdf_combinado = pd.concat([gdf_1, gdf_2, gdf_3], ignore_index=True)\n",
    "\n",
    "# Convert the combined DataFrame to a GeoDataFrame\n",
    "gdf_combinado = gpd.GeoDataFrame(gdf_combinado, geometry='geometry')\n",
    "\n",
    "# Save the combined GeoDataFrame to a new GeoJSON file\n",
    "gdf_combinado.to_file(os.path.join(base_path, f'EarthCul OSM/{park}/definitive variables/lakes.geojson'), driver='GeoJSON')"
   ]
  },
  {
   "cell_type": "markdown",
   "metadata": {},
   "source": [
    "Parking"
   ]
  },
  {
   "cell_type": "code",
   "execution_count": null,
   "metadata": {},
   "outputs": [],
   "source": [
    "# Load GeoJSON files as GeoDataFrames\n",
    "gdf_1 = gpd.read_file(os.path.join(base_path, f'EarthCul OSM/{park}/amenity_parking.geojson'))\n",
    "gdf_2 = gpd.read_file(os.path.join(base_path, f'EarthCul OSM/{park}/amenity_bicycle_parking.geojson'))\n",
    "gdf_3 = gpd.read_file(os.path.join(base_path, f'EarthCul OSM/{park}/amenity_motorcycle_parking.geojson'))\n",
    "# gdf_4 = gpd.read_file(os.path.join(base_path, f'EarthCul OSM/{park}/amenity_parking.geojson'))\n",
    "# gdf_5 = gpd.read_file(\"C:/Users/carlo/Desktop/EarthCul OSM/Sierra Nevada OSM/amenity_multi-storey_SierraNevada.geojson\")\n",
    "# Combine the GeoDataFrames into one\n",
    "gdf_combinado = pd.concat([gdf_1,gdf_2, gdf_3], ignore_index=True)\n",
    "\n",
    "# Convert the combined DataFrame to a GeoDataFrame\n",
    "gdf_combinado = gpd.GeoDataFrame(gdf_combinado, geometry='geometry')\n",
    "\n",
    "# Save the combined GeoDataFrame to a new GeoJSON file\n",
    "gdf_combinado.to_file(os.path.join(base_path, f'EarthCul OSM/{park}/definitive variables/parking.geojson'), driver='GeoJSON')"
   ]
  },
  {
   "cell_type": "markdown",
   "metadata": {},
   "source": [
    "Accommodation"
   ]
  },
  {
   "cell_type": "code",
   "execution_count": null,
   "metadata": {},
   "outputs": [],
   "source": [
    "# Load GeoJSON files as GeoDataFrames\n",
    "gdf_1 = gpd.read_file(os.path.join(base_path, f'EarthCul OSM/{park}/tourism_hostel.geojson'))\n",
    "gdf_2 = gpd.read_file(os.path.join(base_path, f'EarthCul OSM/{park}/tourism_hotel.geojson'))\n",
    "gdf_3 = gpd.read_file(os.path.join(base_path, f'EarthCul OSM/{park}/tourism_motel.geojson'))\n",
    "gdf_4 = gpd.read_file(os.path.join(base_path, f'EarthCul OSM/{park}/tourism_information.geojson'))\n",
    "gdf_5 = gpd.read_file(os.path.join(base_path, f'EarthCul OSM/{park}/leisure_resort.geojson'))\n",
    "# Combine the GeoDataFrames into one\n",
    "gdf_combinado = pd.concat([gdf_1, gdf_2, gdf_3, gdf_4, gdf_5], ignore_index=True)\n",
    "\n",
    "# Convert the combined DataFrame to a GeoDataFrame\n",
    "gdf_combinado = gpd.GeoDataFrame(gdf_combinado, geometry='geometry')\n",
    "\n",
    "# Save the combined GeoDataFrame to a new GeoJSON file\n",
    "gdf_combinado.to_file(os.path.join(base_path, f'EarthCul OSM/{park}/definitive variables/accommodation.geojson'), driver='GeoJSON')"
   ]
  },
  {
   "cell_type": "markdown",
   "metadata": {},
   "source": [
    "Recreational"
   ]
  },
  {
   "cell_type": "code",
   "execution_count": null,
   "metadata": {},
   "outputs": [],
   "source": [
    "# Load GeoJSON files as GeoDataFrames\n",
    "gdf_1 = gpd.read_file(os.path.join(base_path, f'EarthCul OSM/{park}/landuse_recreation_ground.geojson'))\n",
    "gdf_2 = gpd.read_file(os.path.join(base_path, f'EarthCul OSM/{park}/leisure_playground.geojson'))\n",
    "\n",
    "# Combine the GeoDataFrames into one\n",
    "gdf_combinado = pd.concat([gdf_1, gdf_2], ignore_index=True)\n",
    "\n",
    "# Convert the combined DataFrame to a GeoDataFrame\n",
    "gdf_combinado = gpd.GeoDataFrame(gdf_combinado, geometry='geometry')\n",
    "\n",
    "# Save the combined GeoDataFrame to a new GeoJSON file\n",
    "gdf_combinado.to_file(os.path.join(base_path, f'EarthCul OSM/{park}/definitive variables/recreational.geojson'), driver='GeoJSON')"
   ]
  },
  {
   "cell_type": "markdown",
   "metadata": {},
   "source": [
    "Refuges"
   ]
  },
  {
   "cell_type": "code",
   "execution_count": null,
   "metadata": {},
   "outputs": [],
   "source": [
    "# Load GeoJSON files as GeoDataFrames\n",
    "gdf_1 = gpd.read_file(os.path.join(base_path, f'EarthCul OSM/{park}/shelter_type_basic_hut.geojson'))\n",
    "gdf_2 = gpd.read_file(os.path.join(base_path, f'EarthCul OSM/{park}/amenity_shelter_type.geojson'))\n",
    "gdf_3 = gpd.read_file(os.path.join(base_path, f'EarthCul OSM/{park}/tourism_alpine_hut.geojson'))\n",
    "gdf_4 = gpd.read_file(os.path.join(base_path, f'EarthCul OSM/{park}/tourism_wilderness_hut.geojson'))\n",
    "\n",
    "# Combine the GeoDataFrames into one\n",
    "gdf_combinado = pd.concat([gdf_1, gdf_2, gdf_3, gdf_4], ignore_index=True)\n",
    "\n",
    "# Convert the combined DataFrame to a GeoDataFrame\n",
    "gdf_combinado = gpd.GeoDataFrame(gdf_combinado, geometry='geometry')\n",
    "\n",
    "# Save the combined GeoDataFrame to a new GeoJSON file\n",
    "gdf_combinado.to_file(os.path.join(base_path, f'EarthCul OSM/{park}/definitive variables/refuges.geojson'), driver='GeoJSON')"
   ]
  },
  {
   "cell_type": "markdown",
   "metadata": {},
   "source": [
    "Religious Places"
   ]
  },
  {
   "cell_type": "code",
   "execution_count": null,
   "metadata": {},
   "outputs": [],
   "source": [
    "\n",
    "# Load GeoJSON files as GeoDataFrames\n",
    "gdf_1 = gpd.read_file(os.path.join(base_path, f'EarthCul OSM/{park}/building_cathedral.geojson'))\n",
    "gdf_2 = gpd.read_file(os.path.join(base_path, f'EarthCul OSM/{park}/building_chapel.geojson'))\n",
    "gdf_3 = gpd.read_file(os.path.join(base_path, f'EarthCul OSM/{park}/building_church.geojson'))\n",
    "gdf_4 = gpd.read_file(os.path.join(base_path, f'EarthCul OSM/{park}/building_kingdom_hall.geojson'))\n",
    "gdf_5 = gpd.read_file(os.path.join(base_path, f'EarthCul OSM/{park}/building_monastery.geojson'))\n",
    "gdf_6 = gpd.read_file(os.path.join(base_path, f'EarthCul OSM/{park}/building_mosque.geojson'))\n",
    "gdf_7 = gpd.read_file(os.path.join(base_path, f'EarthCul OSM/{park}/building_presbytery.geojson'))\n",
    "gdf_8 = gpd.read_file(os.path.join(base_path, f'EarthCul OSM/{park}/building_religious.geojson'))\n",
    "gdf_9 = gpd.read_file(os.path.join(base_path, f'EarthCul OSM/{park}/building_synagogue.geojson'))\n",
    "gdf_10 = gpd.read_file(os.path.join(base_path, f'EarthCul OSM/{park}/amenity_place_of_worship.geojson'))\n",
    "\n",
    "# Combine the GeoDataFrames into one\n",
    "gdf_combinado = pd.concat([gdf_1, gdf_2,gdf_3, gdf_4, gdf_5, gdf_6,gdf_7, gdf_8, gdf_9, gdf_10], ignore_index=True)\n",
    "\n",
    "# Convert the combined DataFrame to a GeoDataFrame\n",
    "gdf_combinado = gpd.GeoDataFrame(gdf_combinado, geometry='geometry')\n",
    "\n",
    "# Save the combined GeoDataFrame to a new GeoJSON file\n",
    "gdf_combinado.to_file(os.path.join(base_path, f'EarthCul OSM/{park}/definitive variables/religious.geojson'), driver='GeoJSON')"
   ]
  },
  {
   "cell_type": "markdown",
   "metadata": {},
   "source": [
    "Rivers\n"
   ]
  },
  {
   "cell_type": "code",
   "execution_count": null,
   "metadata": {},
   "outputs": [],
   "source": [
    "\n",
    "# Load GeoJSON files as GeoDataFrames\n",
    "gdf_1 = gpd.read_file(os.path.join(base_path, f'EarthCul OSM/{park}/waterway_river.geojson'))\n",
    "gdf_2 = gpd.read_file(os.path.join(base_path, f'EarthCul OSM/{park}/waterway_riverbank.geojson'))\n",
    "gdf_3 = gpd.read_file(os.path.join(base_path, f'EarthCul OSM/{park}/water_river.geojson'))\n",
    "gdf_4 = gpd.read_file(os.path.join(base_path, f'EarthCul OSM/{park}/water_stream.geojson'))\n",
    "gdf_5 = gpd.read_file(os.path.join(base_path, f'EarthCul OSM/{park}/waterway_stream.geojson'))\n",
    "# Combine the GeoDataFrames into one\n",
    "gdf_combinado = pd.concat([gdf_1, gdf_2, gdf_3, gdf_4, gdf_5], ignore_index=True)\n",
    "\n",
    "# Convert the combined DataFrame to a GeoDataFrame\n",
    "gdf_combinado = gpd.GeoDataFrame(gdf_combinado, geometry='geometry')\n",
    "\n",
    "# Save the combined GeoDataFrame to a new GeoJSON file\n",
    "gdf_combinado.to_file(os.path.join(base_path, f'EarthCul OSM/{park}/definitive variables/rivers.geojson'), driver='GeoJSON')"
   ]
  },
  {
   "cell_type": "markdown",
   "metadata": {},
   "source": [
    "sighting points\n"
   ]
  },
  {
   "cell_type": "code",
   "execution_count": null,
   "metadata": {},
   "outputs": [],
   "source": [
    "# Load GeoJSON files as GeoDataFrames\n",
    "gdf_1 = gpd.read_file(os.path.join(base_path, f'EarthCul OSM/{park}/natural_peak.geojson'))\n",
    "gdf_2 = gpd.read_file(os.path.join(base_path, f'EarthCul OSM/{park}/natural_ridge.geojson'))\n",
    "gdf_3 = gpd.read_file(os.path.join(base_path, f'EarthCul OSM/{park}/natural_arete.geojson'))\n",
    "gdf_4 = gpd.read_file(os.path.join(base_path, f'EarthCul OSM/{park}/natural_cliff.geojson'))\n",
    "gdf_5 = gpd.read_file(os.path.join(base_path, f'EarthCul OSM/{park}/tourism_viewpoint.geojson'))\n",
    "# Combine the GeoDataFrames into one\n",
    "gdf_combinado = pd.concat([gdf_1, gdf_2, gdf_3, gdf_4, gdf_5], ignore_index=True)\n",
    "\n",
    "# Convert the combined DataFrame to a GeoDataFrame\n",
    "gdf_combinado = gpd.GeoDataFrame(gdf_combinado, geometry='geometry')\n",
    "\n",
    "# Save the combined GeoDataFrame to a new GeoJSON file\n",
    "gdf_combinado.to_file(os.path.join(base_path, f'EarthCul OSM/{park}/definitive variables/sighting_points.geojson'), driver='GeoJSON')"
   ]
  },
  {
   "cell_type": "markdown",
   "metadata": {},
   "source": [
    "Ski Facilities"
   ]
  },
  {
   "cell_type": "code",
   "execution_count": null,
   "metadata": {},
   "outputs": [],
   "source": [
    "# Load GeoJSON files as GeoDataFrames\n",
    "gdf_1 = gpd.read_file(os.path.join(base_path, f'EarthCul OSM/{park}/route_ski.geojson'))\n",
    "gdf_2 = gpd.read_file(os.path.join(base_path, f'EarthCul OSM/{park}/route_piste.geojson'))\n",
    "gdf_3 = gpd.read_file(os.path.join(base_path, f'EarthCul OSM/{park}/amenity_ski_rental.geojson'))\n",
    "gdf_4 = gpd.read_file(os.path.join(base_path, f'EarthCul OSM/{park}/aerialway_chair_lift.geojson'))\n",
    "gdf_5 = gpd.read_file(os.path.join(base_path, f'EarthCul OSM/{park}/aerialway_drag_lift.geojson'))\n",
    "gdf_6 = gpd.read_file(os.path.join(base_path, f'EarthCul OSM/{park}/landuse_winter_sports.geojson'))\n",
    "\n",
    "# Combine the GeoDataFrames into one\n",
    "gdf_combinado = pd.concat([gdf_1, gdf_2, gdf_3, gdf_4, gdf_5, gdf_6], ignore_index=True)\n",
    "\n",
    "# Convert the combined DataFrame to a GeoDataFrame\n",
    "gdf_combinado = gpd.GeoDataFrame(gdf_combinado, geometry='geometry')\n",
    "\n",
    "# Save the combined GeoDataFrame to a new GeoJSON file\n",
    "gdf_combinado.to_file(os.path.join(base_path, f'EarthCul OSM/{park}/definitive variables/ski_facilities.geojson'), driver='GeoJSON')"
   ]
  },
  {
   "cell_type": "markdown",
   "metadata": {},
   "source": [
    "Small town"
   ]
  },
  {
   "cell_type": "code",
   "execution_count": null,
   "metadata": {},
   "outputs": [],
   "source": [
    "\n",
    "# Load GeoJSON files as GeoDataFrames\n",
    "gdf_1 = gpd.read_file(os.path.join(base_path, f'EarthCul OSM/{park}/place_town.geojson'))\n",
    "gdf_2 = gpd.read_file(os.path.join(base_path, f'EarthCul OSM/{park}/place_hamlet.geojson'))\n",
    "gdf_3 = gpd.read_file(os.path.join(base_path, f'EarthCul OSM/{park}/place_isolated_dwelling.geojson'))\n",
    "gdf_4 = gpd.read_file(os.path.join(base_path, f'EarthCul OSM/{park}/place_village.geojson'))\n",
    "# gdf_5 = gpd.read_file(\"C:/Users/carlo/Desktop/EarthCul OSM/Sierra Nevada/place_neighbourhood_SierraNevada.geojson\")# Se lo excluye porque son sitios de nombres de lugares sin poblacion\n",
    "#gdf_6 = gpd.read_file(\"C:/Users/carlo/Desktop/EarthCul OSM/Sierra Nevada/place_locality_SierraNevada.geojson\")# Se lo excluye porque son sitios de nombres de lugares sin poblacion\n",
    "# Combine the GeoDataFrames into one\n",
    "gdf_combinado = pd.concat([gdf_1, gdf_2, gdf_3, gdf_4], ignore_index=True)\n",
    "\n",
    "# Convert the combined DataFrame to a GeoDataFrame\n",
    "gdf_combinado = gpd.GeoDataFrame(gdf_combinado, geometry='geometry')\n",
    "\n",
    "# Save the combined GeoDataFrame to a new GeoJSON file\n",
    "gdf_combinado.to_file(os.path.join(base_path, f'EarthCul OSM/{park}/definitive variables/small_town.geojson'), driver='GeoJSON')"
   ]
  },
  {
   "cell_type": "markdown",
   "metadata": {},
   "source": [
    "Streets"
   ]
  },
  {
   "cell_type": "code",
   "execution_count": null,
   "metadata": {},
   "outputs": [],
   "source": [
    "# Load GeoJSON files as GeoDataFrames\n",
    "gdf_1 = gpd.read_file(os.path.join(base_path, f'EarthCul OSM/{park}/highway_living_street.geojson'))\n",
    "gdf_2 = gpd.read_file(os.path.join(base_path, f'EarthCul OSM/{park}/highway_service.geojson'))\n",
    "gdf_3 = gpd.read_file(os.path.join(base_path, f'EarthCul OSM/{park}/highway_residential.geojson'))\n",
    "# Combine the GeoDataFrames into one\n",
    "gdf_combinado = pd.concat([ gdf_1, gdf_2, gdf_3], ignore_index=True)\n",
    "\n",
    "# Convert the combined DataFrame to a GeoDataFrame\n",
    "gdf_combinado = gpd.GeoDataFrame(gdf_combinado, geometry='geometry')\n",
    "\n",
    "# Save the combined GeoDataFrame to a new GeoJSON file\n",
    "gdf_combinado.to_file(os.path.join(base_path, f'EarthCul OSM/{park}/definitive variables/streets.geojson'), driver='GeoJSON')"
   ]
  },
  {
   "cell_type": "markdown",
   "metadata": {},
   "source": [
    "Tourism atraction"
   ]
  },
  {
   "cell_type": "code",
   "execution_count": null,
   "metadata": {},
   "outputs": [],
   "source": [
    "# Load GeoJSON files as GeoDataFrames\n",
    "gdf_1 = gpd.read_file(os.path.join(base_path, f'EarthCul OSM/{park}/tourism_attraction.geojson'))\n",
    "gdf_2 = gpd.read_file(os.path.join(base_path, f'EarthCul OSM/{park}/tourism_museum.geojson'))\n",
    "\n",
    "# Combine the GeoDataFrames into one\n",
    "gdf_combinado = pd.concat([gdf_1, gdf_2], ignore_index=True)\n",
    "\n",
    "# Convert the combined DataFrame to a GeoDataFrame\n",
    "gdf_combinado = gpd.GeoDataFrame(gdf_combinado, geometry='geometry')\n",
    "\n",
    "# Save the combined GeoDataFrame to a new GeoJSON file\n",
    "gdf_combinado.to_file(os.path.join(base_path, f'EarthCul OSM/{park}/definitive variables/tourismAttraction.geojson'), driver='GeoJSON')"
   ]
  },
  {
   "cell_type": "markdown",
   "metadata": {},
   "source": [
    "volcanic topography"
   ]
  },
  {
   "cell_type": "code",
   "execution_count": null,
   "metadata": {},
   "outputs": [],
   "source": [
    "# Load GeoJSON files as GeoDataFrames\n",
    "gdf_1 = gpd.read_file(os.path.join(base_path, f'EarthCul OSM/{park}/natural_volcano.geojson'))\n",
    "gdf_2 = gpd.read_file(os.path.join(base_path, f'EarthCul OSM/{park}/geological_volcanic_caldera_rim.geojson'))\n",
    "gdf_3 = gpd.read_file(os.path.join(base_path, f'EarthCul OSM/{park}/geological_volcanic_lava_field.geojson'))\n",
    "gdf_4 = gpd.read_file(os.path.join(base_path, f'EarthCul OSM/{park}/geological_volcanic_vent.geojson'))\n",
    "# Combine the GeoDataFrames into one\n",
    "gdf_combinado = pd.concat([gdf_1, gdf_2, gdf_3, gdf_4], ignore_index=True)\n",
    "\n",
    "# Convert the combined DataFrame to a GeoDataFrame\n",
    "gdf_combinado = gpd.GeoDataFrame(gdf_combinado, geometry='geometry')\n",
    "\n",
    "# Save the combined GeoDataFrame to a new GeoJSON file\n",
    "gdf_combinado.to_file(os.path.join(base_path, f'EarthCul OSM/{park}/definitive variables/volcanic.geojson'), driver='GeoJSON')"
   ]
  },
  {
   "cell_type": "markdown",
   "metadata": {},
   "source": [
    "Water bodies"
   ]
  },
  {
   "cell_type": "code",
   "execution_count": null,
   "metadata": {},
   "outputs": [],
   "source": [
    "\n",
    "# Load GeoJSON files as GeoDataFrames\n",
    "gdf_1 = gpd.read_file(os.path.join(base_path, f'EarthCul OSM/{park}/natural_water.geojson'))\n",
    "gdf_2 = gpd.read_file(os.path.join(base_path, f'EarthCul OSM/{park}/landuse_reservoir.geojson'))\n",
    "gdf_3 = gpd.read_file(os.path.join(base_path, f'EarthCul OSM/{park}/landuse_basin.geojson'))\n",
    "gdf_4 = gpd.read_file(os.path.join(base_path, f'EarthCul OSM/{park}/water_reservoir.geojson'))\n",
    "# Combine the GeoDataFrames into one\n",
    "gdf_combinado = pd.concat([gdf_1, gdf_2, gdf_3, gdf_4], ignore_index=True)\n",
    "\n",
    "# Convert the combined DataFrame to a GeoDataFrame\n",
    "gdf_combinado = gpd.GeoDataFrame(gdf_combinado, geometry='geometry')\n",
    "\n",
    "# Save the combined GeoDataFrame to a new GeoJSON file\n",
    "gdf_combinado.to_file(os.path.join(base_path, f'EarthCul OSM/{park}/definitive variables/waterBodies.geojson'), driver='GeoJSON')"
   ]
  },
  {
   "cell_type": "markdown",
   "metadata": {},
   "source": [
    "WIFI"
   ]
  },
  {
   "cell_type": "code",
   "execution_count": null,
   "metadata": {},
   "outputs": [],
   "source": [
    "# Load GeoJSON files as GeoDataFrames\n",
    "#gdf_1 = gpd.read_file(os.path.join(base_path, f'EarthCul OSM/{park} OSM/wifi_None_{park}.geojson'))\n",
    "gdf_2 = gpd.read_file(os.path.join(base_path, f'EarthCul OSM/{park}/internet_access_wlan.geojson'))\n",
    "\n",
    "# Combine the GeoDataFrames into one\n",
    "gdf_combinado = pd.concat([ gdf_2], ignore_index=True)\n",
    "\n",
    "# Convert the combined DataFrame to a GeoDataFrame\n",
    "gdf_combinado = gpd.GeoDataFrame(gdf_combinado, geometry='geometry')\n",
    "\n",
    "# Save the combined GeoDataFrame to a new GeoJSON file\n",
    "gdf_combinado.to_file(os.path.join(base_path, f'EarthCul OSM/{park}/definitive variables/wifi.geojson'), driver='GeoJSON')"
   ]
  },
  {
   "cell_type": "markdown",
   "metadata": {},
   "source": [
    "Courts, cambia el nombre de pitch a Courts"
   ]
  },
  {
   "cell_type": "code",
   "execution_count": null,
   "metadata": {},
   "outputs": [],
   "source": [
    "# Load GeoJSON files as GeoDataFrames\n",
    "\n",
    "gdf_1 = gpd.read_file(os.path.join(base_path, f'EarthCul OSM/{park}/leisure_pitch.geojson'))\n",
    "\n",
    "# Combine the GeoDataFrames into one\n",
    "gdf_combinado = pd.concat([ gdf_1], ignore_index=True)\n",
    "\n",
    "# Convert the combined DataFrame to a GeoDataFrame\n",
    "gdf_combinado = gpd.GeoDataFrame(gdf_combinado, geometry='geometry')\n",
    "\n",
    "# Save the combined GeoDataFrame to a new GeoJSON file\n",
    "gdf_combinado.to_file(os.path.join(base_path, f'EarthCul OSM/{park}/definitive variables/leisure_court.geojson'), driver='GeoJSON')"
   ]
  },
  {
   "cell_type": "markdown",
   "metadata": {},
   "source": [
    "## Move the layers that dont need to be joined to a new folder"
   ]
  },
  {
   "cell_type": "code",
   "execution_count": null,
   "metadata": {},
   "outputs": [],
   "source": [
    "import os\n",
    "import shutil\n",
    "import glob\n",
    "\n",
    "# Source and destination directory\n",
    "source_directory = os.path.join(base_path, f'EarthCul OSM/{park}')\n",
    "destination_directory = os.path.join(base_path, f'EarthCul OSM/{park}/definitive variables')\n",
    "\n",
    "# Terms you want to search for in file names\n",
    "terms = [\"bicycle_rental\", \"bus_stop\", \"climbing\", \"drinking_water\", \"fountain\",\n",
    "            \"hiking\", \"railway_rail\", \"social_facility\", \"square\", \"community_centre\", \"palaeontological_site\"]\n",
    "\n",
    "# Create the destination directory if it does not exist\n",
    "if not os.path.exists(destination_directory):\n",
    "    os.makedirs(destination_directory)\n",
    "\n",
    "# Get the list of files in the source directory\n",
    "files_in_source = glob.glob(os.path.join(source_directory, \"*.geojson\"))\n",
    "\n",
    "# Filter files based on terms\n",
    "files_to_move = [file for file in files_in_source if any(term in os.path.basename(file) for term in terms)]\n",
    "\n",
    "# Move the leaked files to the destination directory\n",
    "for file in files_to_move:\n",
    "    shutil.move(file, destination_directory)\n",
    "\n",
    "print(\"Files moved successfully\")\n"
   ]
  }
 ],
 "metadata": {
  "kernelspec": {
   "display_name": "base",
   "language": "python",
   "name": "python3"
  },
  "language_info": {
   "codemirror_mode": {
    "name": "ipython",
    "version": 3
   },
   "file_extension": ".py",
   "mimetype": "text/x-python",
   "name": "python",
   "nbconvert_exporter": "python",
   "pygments_lexer": "ipython3",
   "version": "3.11.5"
  }
 },
 "nbformat": 4,
 "nbformat_minor": 2
}
