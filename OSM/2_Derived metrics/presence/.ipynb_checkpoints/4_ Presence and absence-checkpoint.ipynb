{
 "cells": [
  {
   "cell_type": "markdown",
   "metadata": {},
   "source": [
    "- Date: 01/01/2024\n",
    "- Author: Carlos Javier Navarro\n",
    "- Project: EarthCul\n",
    "\n",
    "# Code to calculate the presence and absence of a species in a given area"
   ]
  },
  {
   "cell_type": "code",
   "execution_count": null,
   "metadata": {},
   "outputs": [
    {
     "name": "stderr",
     "output_type": "stream",
     "text": [
      "C:\\Users\\carlo\\AppData\\Local\\Temp\\ipykernel_14180\\2721251281.py:30: UserWarning: Column names longer than 10 characters will be truncated when saved to ESRI Shapefile.\n",
      "  df.to_file(f'C:/Users/carlo/Documents/EarthCul/OSM/2) Derived metrics/presence/results/{park}/grid_3035_presence.shp', driver='ESRI Shapefile')\n"
     ]
    }
   ],
   "source": [
    "import pandas as pd\n",
    "import geopandas as gpd\n",
    "import os\n",
    "\n",
    "park = 'Aiguestortes'\n",
    "\n",
    "base_path = os.getcwd()\n",
    "project_root = os.path.abspath(os.path.join(base_path, '../..'))\n",
    "\n",
    "# Path to the shapefile\n",
    "shapefile_path = os.path.join(project_root, '2_Derived metrics/count/results', park, 'grid_3035_count.shp')\n",
    "\n",
    "\n",
    "# Read the shapefile using geopandas\n",
    "df = gpd.read_file(shapefile_path)\n",
    "\n",
    "# Suppose you have a DataFrame named df with 34 columns\n",
    "# You can adjust this according to your DataFrame structure\n",
    "\n",
    "# Get the list of column names\n",
    "column_names = df.columns\n",
    "\n",
    "# columns_to_process = df.columns.tolist()[10:] # Uncomment this line if you want to select only some columns\n",
    "\n",
    "# Iterate over the columns and create new columns\n",
    "for column_name in column_names: # Replace column_to_process here if you want to select only some columns\n",
    "    # Create the name of the new column\n",
    "    new_column_name = 'pre_' + column_name\n",
    "    \n",
    "    # Create the new column with values 0 or 1\n",
    "    df[new_column_name] = df[column_name].apply(lambda x: 0 if x == 0 else 1)\n",
    "\n",
    "# Now, df contains the new columns with the desired values\n",
    "\n",
    "df.to_file(os.path.join(project_root, '2_Derived metrics/presence/results', park, 'grid_3035_presence.shp'), driver='ESRI Shapefile')\n",
    "\n"
   ]
  },
  {
   "cell_type": "code",
   "execution_count": null,
   "metadata": {},
   "outputs": [],
   "source": [
    "from tqdm import tqdm\n",
    "import os\n",
    "import geopandas as gpd\n",
    "import rasterio\n",
    "from rasterio import features\n",
    "\n",
    "# Path to the base raster file\n",
    "park = 'Aiguestortes'\n",
    "project_root = os.path.abspath(os.path.join(os.getcwd(), '../..'))\n",
    "Base_raster = os.path.join(project_root, '2_Derived metrics/BaseLayers', park, 'Slope.tif')\n",
    "\n",
    "              \n",
    "# Output folder\n",
    "output_folder = os.path.join(project_root, '2_Derived metrics/presence/results', park)\n",
    "\n",
    "gdf = gpd.read_file(os.path.join(project_root, '2_Derived metrics/presence/results', park, 'grid_3035_presence.shp'))\n",
    "\n",
    "\n",
    "with rasterio.open(Base_raster) as src:\n",
    "    profile = src.profile  \n",
    "\n",
    "    # Loop through columns to rasterize \n",
    "    columns_to_process = gdf.columns.tolist()[34:]#select the correct columns\n",
    "    for column in tqdm(columns_to_process, desc='Rasterizing Columns'):\n",
    "        values = gdf[column].values\n",
    "        \n",
    "        # Rasterize the values\n",
    "        rasterized = features.rasterize(\n",
    "            zip(gdf.geometry, values),\n",
    "            out_shape=(profile['height'], profile['width']),\n",
    "            transform=profile['transform'],\n",
    "            fill=-999.99,  \n",
    "            all_touched=True,  \n",
    "            default_value=0,  \n",
    "            dtype=profile['dtype']  \n",
    "        )\n",
    " \n",
    "        output_path = os.path.join(output_folder, f'{column}.tif')\n",
    "        \n",
    "        # Save the outputs\n",
    "        with rasterio.open(output_path, 'w', **profile) as dst:\n",
    "            dst.write(rasterized, 1)"
   ]
  }
 ],
 "metadata": {
  "kernelspec": {
   "display_name": "Python 3 (ipykernel)",
   "language": "python",
   "name": "python3"
  },
  "language_info": {
   "codemirror_mode": {
    "name": "ipython",
    "version": 3
   },
   "file_extension": ".py",
   "mimetype": "text/x-python",
   "name": "python",
   "nbconvert_exporter": "python",
   "pygments_lexer": "ipython3",
   "version": "3.11.5"
  }
 },
 "nbformat": 4,
 "nbformat_minor": 2
}
